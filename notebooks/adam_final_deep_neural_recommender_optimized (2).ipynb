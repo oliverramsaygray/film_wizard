{
 "cells": [
  {
   "cell_type": "code",
   "execution_count": 1,
   "id": "T5gppDD2n9XY",
   "metadata": {
    "ExecuteTime": {
     "end_time": "2025-03-17T15:06:06.046384Z",
     "start_time": "2025-03-17T15:06:04.172845Z"
    },
    "colab": {
     "base_uri": "https://localhost:8080/"
    },
    "id": "T5gppDD2n9XY",
    "outputId": "b10bd66c-d546-4b6e-9bf5-46b13b8cac44"
   },
   "outputs": [
    {
     "name": "stdout",
     "output_type": "stream",
     "text": [
      "Requirement already satisfied: surprise in /Users/adamdyerson/.pyenv/versions/3.10.6/envs/film_wizard/lib/python3.10/site-packages (0.1)\n",
      "Requirement already satisfied: google-cloud-bigquery in /Users/adamdyerson/.pyenv/versions/3.10.6/envs/film_wizard/lib/python3.10/site-packages (3.30.0)\n",
      "Requirement already satisfied: scikit-surprise in /Users/adamdyerson/.pyenv/versions/3.10.6/envs/film_wizard/lib/python3.10/site-packages (from surprise) (1.1.4)\n",
      "Requirement already satisfied: google-api-core<3.0.0dev,>=2.11.1 in /Users/adamdyerson/.pyenv/versions/3.10.6/envs/film_wizard/lib/python3.10/site-packages (from google-api-core[grpc]<3.0.0dev,>=2.11.1->google-cloud-bigquery) (2.24.2)\n",
      "Requirement already satisfied: google-auth<3.0.0dev,>=2.14.1 in /Users/adamdyerson/.pyenv/versions/3.10.6/envs/film_wizard/lib/python3.10/site-packages (from google-cloud-bigquery) (2.38.0)\n",
      "Requirement already satisfied: google-cloud-core<3.0.0dev,>=2.4.1 in /Users/adamdyerson/.pyenv/versions/3.10.6/envs/film_wizard/lib/python3.10/site-packages (from google-cloud-bigquery) (2.4.3)\n",
      "Requirement already satisfied: google-resumable-media<3.0dev,>=2.0.0 in /Users/adamdyerson/.pyenv/versions/3.10.6/envs/film_wizard/lib/python3.10/site-packages (from google-cloud-bigquery) (2.7.2)\n",
      "Requirement already satisfied: packaging>=20.0.0 in /Users/adamdyerson/.pyenv/versions/3.10.6/envs/film_wizard/lib/python3.10/site-packages (from google-cloud-bigquery) (24.2)\n",
      "Requirement already satisfied: python-dateutil<3.0dev,>=2.7.3 in /Users/adamdyerson/.pyenv/versions/3.10.6/envs/film_wizard/lib/python3.10/site-packages (from google-cloud-bigquery) (2.9.0.post0)\n",
      "Requirement already satisfied: requests<3.0.0dev,>=2.21.0 in /Users/adamdyerson/.pyenv/versions/3.10.6/envs/film_wizard/lib/python3.10/site-packages (from google-cloud-bigquery) (2.32.3)\n",
      "Requirement already satisfied: googleapis-common-protos<2.0.0,>=1.56.2 in /Users/adamdyerson/.pyenv/versions/3.10.6/envs/film_wizard/lib/python3.10/site-packages (from google-api-core<3.0.0dev,>=2.11.1->google-api-core[grpc]<3.0.0dev,>=2.11.1->google-cloud-bigquery) (1.69.1)\n",
      "Requirement already satisfied: protobuf!=3.20.0,!=3.20.1,!=4.21.0,!=4.21.1,!=4.21.2,!=4.21.3,!=4.21.4,!=4.21.5,<7.0.0,>=3.19.5 in /Users/adamdyerson/.pyenv/versions/3.10.6/envs/film_wizard/lib/python3.10/site-packages (from google-api-core<3.0.0dev,>=2.11.1->google-api-core[grpc]<3.0.0dev,>=2.11.1->google-cloud-bigquery) (5.29.3)\n",
      "Requirement already satisfied: proto-plus<2.0.0,>=1.22.3 in /Users/adamdyerson/.pyenv/versions/3.10.6/envs/film_wizard/lib/python3.10/site-packages (from google-api-core<3.0.0dev,>=2.11.1->google-api-core[grpc]<3.0.0dev,>=2.11.1->google-cloud-bigquery) (1.26.1)\n",
      "Requirement already satisfied: grpcio<2.0dev,>=1.33.2 in /Users/adamdyerson/.pyenv/versions/3.10.6/envs/film_wizard/lib/python3.10/site-packages (from google-api-core[grpc]<3.0.0dev,>=2.11.1->google-cloud-bigquery) (1.71.0)\n",
      "Requirement already satisfied: grpcio-status<2.0.dev0,>=1.33.2 in /Users/adamdyerson/.pyenv/versions/3.10.6/envs/film_wizard/lib/python3.10/site-packages (from google-api-core[grpc]<3.0.0dev,>=2.11.1->google-cloud-bigquery) (1.71.0)\n",
      "Requirement already satisfied: cachetools<6.0,>=2.0.0 in /Users/adamdyerson/.pyenv/versions/3.10.6/envs/film_wizard/lib/python3.10/site-packages (from google-auth<3.0.0dev,>=2.14.1->google-cloud-bigquery) (5.5.2)\n",
      "Requirement already satisfied: pyasn1-modules>=0.2.1 in /Users/adamdyerson/.pyenv/versions/3.10.6/envs/film_wizard/lib/python3.10/site-packages (from google-auth<3.0.0dev,>=2.14.1->google-cloud-bigquery) (0.4.1)\n",
      "Requirement already satisfied: rsa<5,>=3.1.4 in /Users/adamdyerson/.pyenv/versions/3.10.6/envs/film_wizard/lib/python3.10/site-packages (from google-auth<3.0.0dev,>=2.14.1->google-cloud-bigquery) (4.9)\n",
      "Requirement already satisfied: google-crc32c<2.0dev,>=1.0 in /Users/adamdyerson/.pyenv/versions/3.10.6/envs/film_wizard/lib/python3.10/site-packages (from google-resumable-media<3.0dev,>=2.0.0->google-cloud-bigquery) (1.6.0)\n",
      "Requirement already satisfied: six>=1.5 in /Users/adamdyerson/.pyenv/versions/3.10.6/envs/film_wizard/lib/python3.10/site-packages (from python-dateutil<3.0dev,>=2.7.3->google-cloud-bigquery) (1.17.0)\n",
      "Requirement already satisfied: charset-normalizer<4,>=2 in /Users/adamdyerson/.pyenv/versions/3.10.6/envs/film_wizard/lib/python3.10/site-packages (from requests<3.0.0dev,>=2.21.0->google-cloud-bigquery) (3.4.1)\n",
      "Requirement already satisfied: idna<4,>=2.5 in /Users/adamdyerson/.pyenv/versions/3.10.6/envs/film_wizard/lib/python3.10/site-packages (from requests<3.0.0dev,>=2.21.0->google-cloud-bigquery) (3.10)\n",
      "Requirement already satisfied: urllib3<3,>=1.21.1 in /Users/adamdyerson/.pyenv/versions/3.10.6/envs/film_wizard/lib/python3.10/site-packages (from requests<3.0.0dev,>=2.21.0->google-cloud-bigquery) (2.3.0)\n",
      "Requirement already satisfied: certifi>=2017.4.17 in /Users/adamdyerson/.pyenv/versions/3.10.6/envs/film_wizard/lib/python3.10/site-packages (from requests<3.0.0dev,>=2.21.0->google-cloud-bigquery) (2025.1.31)\n",
      "Requirement already satisfied: joblib>=1.2.0 in /Users/adamdyerson/.pyenv/versions/3.10.6/envs/film_wizard/lib/python3.10/site-packages (from scikit-surprise->surprise) (1.4.2)\n",
      "Requirement already satisfied: numpy>=1.19.5 in /Users/adamdyerson/.pyenv/versions/3.10.6/envs/film_wizard/lib/python3.10/site-packages (from scikit-surprise->surprise) (1.26.4)\n",
      "Requirement already satisfied: scipy>=1.6.0 in /Users/adamdyerson/.pyenv/versions/3.10.6/envs/film_wizard/lib/python3.10/site-packages (from scikit-surprise->surprise) (1.13.1)\n",
      "Requirement already satisfied: pyasn1<0.7.0,>=0.4.6 in /Users/adamdyerson/.pyenv/versions/3.10.6/envs/film_wizard/lib/python3.10/site-packages (from pyasn1-modules>=0.2.1->google-auth<3.0.0dev,>=2.14.1->google-cloud-bigquery) (0.6.1)\n",
      "Requirement already satisfied: google-cloud-bigquery in /Users/adamdyerson/.pyenv/versions/3.10.6/envs/film_wizard/lib/python3.10/site-packages (3.30.0)\n",
      "Requirement already satisfied: google-auth in /Users/adamdyerson/.pyenv/versions/3.10.6/envs/film_wizard/lib/python3.10/site-packages (2.38.0)\n",
      "Requirement already satisfied: google-auth-oauthlib in /Users/adamdyerson/.pyenv/versions/3.10.6/envs/film_wizard/lib/python3.10/site-packages (1.2.1)\n",
      "Collecting google-auth-httplib2\n",
      "  Downloading google_auth_httplib2-0.2.0-py2.py3-none-any.whl.metadata (2.2 kB)\n",
      "Requirement already satisfied: google-api-core<3.0.0dev,>=2.11.1 in /Users/adamdyerson/.pyenv/versions/3.10.6/envs/film_wizard/lib/python3.10/site-packages (from google-api-core[grpc]<3.0.0dev,>=2.11.1->google-cloud-bigquery) (2.24.2)\n",
      "Requirement already satisfied: google-cloud-core<3.0.0dev,>=2.4.1 in /Users/adamdyerson/.pyenv/versions/3.10.6/envs/film_wizard/lib/python3.10/site-packages (from google-cloud-bigquery) (2.4.3)\n",
      "Requirement already satisfied: google-resumable-media<3.0dev,>=2.0.0 in /Users/adamdyerson/.pyenv/versions/3.10.6/envs/film_wizard/lib/python3.10/site-packages (from google-cloud-bigquery) (2.7.2)\n",
      "Requirement already satisfied: packaging>=20.0.0 in /Users/adamdyerson/.pyenv/versions/3.10.6/envs/film_wizard/lib/python3.10/site-packages (from google-cloud-bigquery) (24.2)\n",
      "Requirement already satisfied: python-dateutil<3.0dev,>=2.7.3 in /Users/adamdyerson/.pyenv/versions/3.10.6/envs/film_wizard/lib/python3.10/site-packages (from google-cloud-bigquery) (2.9.0.post0)\n",
      "Requirement already satisfied: requests<3.0.0dev,>=2.21.0 in /Users/adamdyerson/.pyenv/versions/3.10.6/envs/film_wizard/lib/python3.10/site-packages (from google-cloud-bigquery) (2.32.3)\n",
      "Requirement already satisfied: cachetools<6.0,>=2.0.0 in /Users/adamdyerson/.pyenv/versions/3.10.6/envs/film_wizard/lib/python3.10/site-packages (from google-auth) (5.5.2)\n",
      "Requirement already satisfied: pyasn1-modules>=0.2.1 in /Users/adamdyerson/.pyenv/versions/3.10.6/envs/film_wizard/lib/python3.10/site-packages (from google-auth) (0.4.1)\n",
      "Requirement already satisfied: rsa<5,>=3.1.4 in /Users/adamdyerson/.pyenv/versions/3.10.6/envs/film_wizard/lib/python3.10/site-packages (from google-auth) (4.9)\n",
      "Requirement already satisfied: requests-oauthlib>=0.7.0 in /Users/adamdyerson/.pyenv/versions/3.10.6/envs/film_wizard/lib/python3.10/site-packages (from google-auth-oauthlib) (2.0.0)\n"
     ]
    },
    {
     "name": "stdout",
     "output_type": "stream",
     "text": [
      "Collecting httplib2>=0.19.0 (from google-auth-httplib2)\n",
      "  Downloading httplib2-0.22.0-py3-none-any.whl.metadata (2.6 kB)\n",
      "Requirement already satisfied: googleapis-common-protos<2.0.0,>=1.56.2 in /Users/adamdyerson/.pyenv/versions/3.10.6/envs/film_wizard/lib/python3.10/site-packages (from google-api-core<3.0.0dev,>=2.11.1->google-api-core[grpc]<3.0.0dev,>=2.11.1->google-cloud-bigquery) (1.69.1)\n",
      "Requirement already satisfied: protobuf!=3.20.0,!=3.20.1,!=4.21.0,!=4.21.1,!=4.21.2,!=4.21.3,!=4.21.4,!=4.21.5,<7.0.0,>=3.19.5 in /Users/adamdyerson/.pyenv/versions/3.10.6/envs/film_wizard/lib/python3.10/site-packages (from google-api-core<3.0.0dev,>=2.11.1->google-api-core[grpc]<3.0.0dev,>=2.11.1->google-cloud-bigquery) (5.29.3)\n",
      "Requirement already satisfied: proto-plus<2.0.0,>=1.22.3 in /Users/adamdyerson/.pyenv/versions/3.10.6/envs/film_wizard/lib/python3.10/site-packages (from google-api-core<3.0.0dev,>=2.11.1->google-api-core[grpc]<3.0.0dev,>=2.11.1->google-cloud-bigquery) (1.26.1)\n",
      "Requirement already satisfied: grpcio<2.0dev,>=1.33.2 in /Users/adamdyerson/.pyenv/versions/3.10.6/envs/film_wizard/lib/python3.10/site-packages (from google-api-core[grpc]<3.0.0dev,>=2.11.1->google-cloud-bigquery) (1.71.0)\n",
      "Requirement already satisfied: grpcio-status<2.0.dev0,>=1.33.2 in /Users/adamdyerson/.pyenv/versions/3.10.6/envs/film_wizard/lib/python3.10/site-packages (from google-api-core[grpc]<3.0.0dev,>=2.11.1->google-cloud-bigquery) (1.71.0)\n",
      "Requirement already satisfied: google-crc32c<2.0dev,>=1.0 in /Users/adamdyerson/.pyenv/versions/3.10.6/envs/film_wizard/lib/python3.10/site-packages (from google-resumable-media<3.0dev,>=2.0.0->google-cloud-bigquery) (1.6.0)\n",
      "Requirement already satisfied: pyparsing!=3.0.0,!=3.0.1,!=3.0.2,!=3.0.3,<4,>=2.4.2 in /Users/adamdyerson/.pyenv/versions/3.10.6/envs/film_wizard/lib/python3.10/site-packages (from httplib2>=0.19.0->google-auth-httplib2) (3.2.1)\n",
      "Requirement already satisfied: pyasn1<0.7.0,>=0.4.6 in /Users/adamdyerson/.pyenv/versions/3.10.6/envs/film_wizard/lib/python3.10/site-packages (from pyasn1-modules>=0.2.1->google-auth) (0.6.1)\n",
      "Requirement already satisfied: six>=1.5 in /Users/adamdyerson/.pyenv/versions/3.10.6/envs/film_wizard/lib/python3.10/site-packages (from python-dateutil<3.0dev,>=2.7.3->google-cloud-bigquery) (1.17.0)\n",
      "Requirement already satisfied: charset-normalizer<4,>=2 in /Users/adamdyerson/.pyenv/versions/3.10.6/envs/film_wizard/lib/python3.10/site-packages (from requests<3.0.0dev,>=2.21.0->google-cloud-bigquery) (3.4.1)\n",
      "Requirement already satisfied: idna<4,>=2.5 in /Users/adamdyerson/.pyenv/versions/3.10.6/envs/film_wizard/lib/python3.10/site-packages (from requests<3.0.0dev,>=2.21.0->google-cloud-bigquery) (3.10)\n",
      "Requirement already satisfied: urllib3<3,>=1.21.1 in /Users/adamdyerson/.pyenv/versions/3.10.6/envs/film_wizard/lib/python3.10/site-packages (from requests<3.0.0dev,>=2.21.0->google-cloud-bigquery) (2.3.0)\n",
      "Requirement already satisfied: certifi>=2017.4.17 in /Users/adamdyerson/.pyenv/versions/3.10.6/envs/film_wizard/lib/python3.10/site-packages (from requests<3.0.0dev,>=2.21.0->google-cloud-bigquery) (2025.1.31)\n",
      "Requirement already satisfied: oauthlib>=3.0.0 in /Users/adamdyerson/.pyenv/versions/3.10.6/envs/film_wizard/lib/python3.10/site-packages (from requests-oauthlib>=0.7.0->google-auth-oauthlib) (3.2.2)\n",
      "Downloading google_auth_httplib2-0.2.0-py2.py3-none-any.whl (9.3 kB)\n",
      "Downloading httplib2-0.22.0-py3-none-any.whl (96 kB)\n",
      "Installing collected packages: httplib2, google-auth-httplib2\n",
      "Successfully installed google-auth-httplib2-0.2.0 httplib2-0.22.0\n"
     ]
    }
   ],
   "source": [
    "!pip install surprise google-cloud-bigquery\n",
    "!pip install google-cloud-bigquery google-auth google-auth-oauthlib google-auth-httplib2\n"
   ]
  },
  {
   "cell_type": "code",
   "execution_count": 4,
   "id": "46FGOsqsoDZ3",
   "metadata": {
    "ExecuteTime": {
     "end_time": "2025-03-17T15:09:41.795866Z",
     "start_time": "2025-03-17T15:09:40.937521Z"
    },
    "id": "46FGOsqsoDZ3"
   },
   "outputs": [
    {
     "name": "stdout",
     "output_type": "stream",
     "text": [
      "Authenticated successfully!\n"
     ]
    }
   ],
   "source": [
    "import os\n",
    "from google.cloud import bigquery\n",
    "\n",
    "# Initialize BigQuery client\n",
    "client = bigquery.Client()\n",
    "print(\"Authenticated successfully!\")\n"
   ]
  },
  {
   "cell_type": "code",
   "execution_count": 5,
   "id": "de7b4b92",
   "metadata": {
    "ExecuteTime": {
     "end_time": "2025-03-17T15:14:25.234763Z",
     "start_time": "2025-03-17T15:10:35.572978Z"
    },
    "colab": {
     "base_uri": "https://localhost:8080/"
    },
    "id": "de7b4b92",
    "outputId": "99169bc8-47a4-491a-9884-18056550ada5"
   },
   "outputs": [
    {
     "name": "stdout",
     "output_type": "stream",
     "text": [
      "Epoch 1/20\n",
      "\u001b[1m781/781\u001b[0m \u001b[32m━━━━━━━━━━━━━━━━━━━━\u001b[0m\u001b[37m\u001b[0m \u001b[1m28s\u001b[0m 35ms/step - loss: 1.9188 - mae: 1.3543 - val_loss: 0.5418 - val_mae: 0.7854\n",
      "Epoch 2/20\n",
      "\u001b[1m781/781\u001b[0m \u001b[32m━━━━━━━━━━━━━━━━━━━━\u001b[0m\u001b[37m\u001b[0m \u001b[1m26s\u001b[0m 33ms/step - loss: 0.6014 - mae: 0.8691 - val_loss: 0.5215 - val_mae: 0.7754\n",
      "Epoch 3/20\n",
      "\u001b[1m781/781\u001b[0m \u001b[32m━━━━━━━━━━━━━━━━━━━━\u001b[0m\u001b[37m\u001b[0m \u001b[1m28s\u001b[0m 36ms/step - loss: 0.5629 - mae: 0.8296 - val_loss: 0.5068 - val_mae: 0.7623\n",
      "Epoch 4/20\n",
      "\u001b[1m781/781\u001b[0m \u001b[32m━━━━━━━━━━━━━━━━━━━━\u001b[0m\u001b[37m\u001b[0m \u001b[1m27s\u001b[0m 35ms/step - loss: 0.5385 - mae: 0.8027 - val_loss: 0.4933 - val_mae: 0.7455\n",
      "Epoch 5/20\n",
      "\u001b[1m781/781\u001b[0m \u001b[32m━━━━━━━━━━━━━━━━━━━━\u001b[0m\u001b[37m\u001b[0m \u001b[1m29s\u001b[0m 37ms/step - loss: 0.5179 - mae: 0.7811 - val_loss: 0.4788 - val_mae: 0.7355\n",
      "Epoch 6/20\n",
      "\u001b[1m781/781\u001b[0m \u001b[32m━━━━━━━━━━━━━━━━━━━━\u001b[0m\u001b[37m\u001b[0m \u001b[1m29s\u001b[0m 37ms/step - loss: 0.4997 - mae: 0.7641 - val_loss: 0.4876 - val_mae: 0.7448\n",
      "Epoch 7/20\n",
      "\u001b[1m781/781\u001b[0m \u001b[32m━━━━━━━━━━━━━━━━━━━━\u001b[0m\u001b[37m\u001b[0m \u001b[1m28s\u001b[0m 35ms/step - loss: 0.4875 - mae: 0.7502 - val_loss: 0.4892 - val_mae: 0.7464\n",
      "Epoch 8/20\n",
      "\u001b[1m781/781\u001b[0m \u001b[32m━━━━━━━━━━━━━━━━━━━━\u001b[0m\u001b[37m\u001b[0m \u001b[1m26s\u001b[0m 34ms/step - loss: 0.4784 - mae: 0.7407 - val_loss: 0.4887 - val_mae: 0.7463\n"
     ]
    },
    {
     "data": {
      "text/plain": [
       "<keras.src.callbacks.history.History at 0x322a39b40>"
      ]
     },
     "execution_count": 5,
     "metadata": {},
     "output_type": "execute_result"
    }
   ],
   "source": [
    "\n",
    "\n",
    "# Import necessary libraries\n",
    "import pandas as pd\n",
    "import numpy as np\n",
    "import tensorflow as tf\n",
    "from tensorflow import keras\n",
    "from google.cloud import bigquery\n",
    "from sklearn.metrics import mean_squared_error, mean_absolute_error, r2_score, precision_score, recall_score\n",
    "from surprise import Dataset, Reader\n",
    "\n",
    "# Initialize BigQuery client\n",
    "PROJECT_ID = \"film-wizard-453315\"\n",
    "DATASET_ID = \"Grouplens\"\n",
    "client = bigquery.Client(project=PROJECT_ID)\n",
    "\n",
    "# Fetch data in batches from BigQuery to avoid memory issues\n",
    "# Scalability: This prevents excessive memory usage\n",
    "\n",
    "#Increase data size here\n",
    "def fetch_data(batch_size=1_000_000):\n",
    "    query = f'''\n",
    "    SELECT userId, movieId, rating\n",
    "    FROM `{PROJECT_ID}.{DATASET_ID}.raw_grouplens_ratings`\n",
    "    LIMIT {batch_size}\n",
    "    '''\n",
    "    return client.query(query).to_dataframe()\n",
    "\n",
    "# Load data\n",
    "ratings_df = fetch_data()\n",
    "reader = Reader(rating_scale=(0.5, 5.0))\n",
    "data = Dataset.load_from_df(ratings_df[['userId', 'movieId', 'rating']], reader)\n",
    "\n",
    "# Create User & Movie ID mappings\n",
    "user_to_idx = {user: i for i, user in enumerate(ratings_df['userId'].unique())}\n",
    "movie_to_idx = {movie: i for i, movie in enumerate(ratings_df['movieId'].unique())}\n",
    "\n",
    "ratings_df['user_idx'] = ratings_df['userId'].map(user_to_idx)\n",
    "ratings_df['movie_idx'] = ratings_df['movieId'].map(movie_to_idx)\n",
    "\n",
    "# Define Data Generator for Training\n",
    "\n",
    "def data_generator(data, batch_size=1024):\n",
    "    while True:\n",
    "        for i in range(0, len(data), batch_size):\n",
    "            batch = data.iloc[i:i+batch_size]\n",
    "            X_batch = (batch['user_idx'].values, batch['movie_idx'].values)\n",
    "            y_batch = batch['rating'].values\n",
    "            yield X_batch, y_batch  # Ensure correct tuple format\n",
    "\n",
    "# Define Deep Learning Model\n",
    "num_users = len(user_to_idx)\n",
    "num_movies = len(movie_to_idx)\n",
    "embedding_size = 64  # Increased for better learning\n",
    "\n",
    "user_input = keras.Input(shape=(1,))\n",
    "movie_input = keras.Input(shape=(1,))\n",
    "\n",
    "# Added L2 regularization to embeddings\n",
    "user_embedding = keras.layers.Embedding(input_dim=num_users, output_dim=embedding_size,\n",
    "                                        embeddings_regularizer=keras.regularizers.l2(0.001))(user_input)\n",
    "movie_embedding = keras.layers.Embedding(input_dim=num_movies, output_dim=embedding_size,\n",
    "                                         embeddings_regularizer=keras.regularizers.l2(0.001))(movie_input)\n",
    "\n",
    "user_vec = keras.layers.Flatten()(user_embedding)\n",
    "movie_vec = keras.layers.Flatten()(movie_embedding)\n",
    "\n",
    "concat = keras.layers.Concatenate()([user_vec, movie_vec])\n",
    "dense1 = keras.layers.Dense(128, activation='relu')(concat)\n",
    "dropout1 = keras.layers.Dropout(0.4)(dense1)  # Increased dropout for regularization\n",
    "dense2 = keras.layers.Dense(64, activation='relu')(dropout1)\n",
    "dropout2 = keras.layers.Dropout(0.4)(dense2)  # Increased dropout for better generalization\n",
    "output = keras.layers.Dense(1, activation='linear')(dropout2)\n",
    "\n",
    "model = keras.Model(inputs=[user_input, movie_input], outputs=output)\n",
    "model.compile(optimizer=keras.optimizers.Adam(learning_rate=0.001), loss=tf.keras.losses.Huber(), metrics=['mae'])  # Lower learning rate\n",
    "\n",
    "# Add Early Stopping\n",
    "early_stopping = keras.callbacks.EarlyStopping(monitor='val_loss', patience=3, restore_best_weights=True)\n",
    "\n",
    "# Train Model with Batch Processing\n",
    "batch_size = 1024\n",
    "train_steps = len(ratings_df) // batch_size\n",
    "\n",
    "# Split data into training (80%) and validation (20%)\n",
    "train_data = ratings_df.sample(frac=0.8, random_state=42)\n",
    "val_data = ratings_df.drop(train_data.index)\n",
    "\n",
    "model.fit(\n",
    "    data_generator(train_data, batch_size),\n",
    "    steps_per_epoch=len(train_data) // batch_size,\n",
    "    validation_data=data_generator(val_data, batch_size),\n",
    "    validation_steps=len(val_data) // batch_size,\n",
    "    epochs=20,\n",
    "    callbacks=[early_stopping]\n",
    ")\n",
    "\n",
    "\n",
    "\n",
    "\n"
   ]
  },
  {
   "cell_type": "code",
   "execution_count": 8,
   "id": "ubhslZUaoCSx",
   "metadata": {
    "ExecuteTime": {
     "end_time": "2025-03-17T15:16:57.113156Z",
     "start_time": "2025-03-17T15:16:56.498741Z"
    },
    "colab": {
     "base_uri": "https://localhost:8080/"
    },
    "id": "ubhslZUaoCSx",
    "outputId": "a04403bb-83de-4807-beb0-ebf0d6f94ff2"
   },
   "outputs": [
    {
     "name": "stdout",
     "output_type": "stream",
     "text": [
      "\u001b[1m196/196\u001b[0m \u001b[32m━━━━━━━━━━━━━━━━━━━━\u001b[0m\u001b[37m\u001b[0m \u001b[1m0s\u001b[0m 682us/step\n",
      "\n",
      "📊 **Average Predicted Rating:** 3.52\n",
      "RMSE: 0.9643\n",
      "MAE: 0.7387\n",
      "R2 Score: 0.2536\n",
      "Diversity Score: 0.4803\n"
     ]
    }
   ],
   "source": [
    "from collections import defaultdict\n",
    "\n",
    "\n",
    "def get_top_n(predictions, n=10):\n",
    "    top_n = defaultdict(list)\n",
    "    for uid, iid, true_r, est, _ in predictions:\n",
    "        top_n[uid].append((iid, est))\n",
    "    for uid, user_ratings in top_n.items():\n",
    "        user_ratings.sort(key=lambda x: x[1], reverse=True)\n",
    "        top_n[uid] = user_ratings[:n]\n",
    "    return top_n\n",
    "\n",
    "# Generate predictions using batch processing\n",
    "val_users = val_data['user_idx'].values\n",
    "val_movies = val_data['movie_idx'].values\n",
    "\n",
    "# Predict in batches to reduce excessive print logs\n",
    "predicted_ratings = model.predict([val_users, val_movies], batch_size=1024).flatten()\n",
    "\n",
    "# Ensure y_pred has the correct shape\n",
    "y_true = val_data['rating'].values\n",
    "y_pred = predicted_ratings.reshape(-1)  # Flatten in case of incorrect shape\n",
    "\n",
    "rmse = np.sqrt(mean_squared_error(y_true, y_pred))  # Compute RMSE manually\n",
    "mae = mean_absolute_error(y_true, y_pred)\n",
    "r2 = r2_score(y_true, y_pred)\n",
    "\n",
    "# Combine predictions with actual values\n",
    "predictions = list(zip(val_data['userId'], val_data['movieId'], val_data['rating'], y_pred, [None]*len(val_data)))\n",
    "\n",
    "# Compute top recommendations\n",
    "top_n = get_top_n(predictions, n=10)\n",
    "\n",
    "# Compute diversity: Measure how varied recommendations are\n",
    "unique_movies = set()\n",
    "for uid, user_ratings in top_n.items():\n",
    "    unique_movies.update([iid for iid, _ in user_ratings])\n",
    "diversity_score = len(unique_movies) / len(set(ratings_df['movieId']))\n",
    "\n",
    "avg_pred_rating = np.mean(predicted_ratings)\n",
    "print(f\"\\n📊 **Average Predicted Rating:** {avg_pred_rating:.2f}\")\n",
    "# Print evaluation results\n",
    "print(f\"RMSE: {rmse:.4f}\")\n",
    "print(f\"MAE: {mae:.4f}\")\n",
    "print(f\"R2 Score: {r2:.4f}\")\n",
    "print(f\"Diversity Score: {diversity_score:.4f}\")"
   ]
  },
  {
   "cell_type": "code",
   "execution_count": 22,
   "id": "0400a432",
   "metadata": {
    "ExecuteTime": {
     "end_time": "2025-03-17T15:43:12.681335Z",
     "start_time": "2025-03-17T15:43:10.230404Z"
    },
    "colab": {
     "base_uri": "https://localhost:8080/"
    },
    "id": "0400a432",
    "outputId": "b8fa1113-165d-42f3-ebc9-7cadc6d82ca9"
   },
   "outputs": [
    {
     "name": "stdout",
     "output_type": "stream",
     "text": [
      "\u001b[1m1/1\u001b[0m \u001b[32m━━━━━━━━━━━━━━━━━━━━\u001b[0m\u001b[37m\u001b[0m \u001b[1m0s\u001b[0m 77ms/step\n",
      "🎬 **Predicted Ratings for Your IMDb Movies** 🎬\n",
      "                                                title  rating  \\\n",
      "10                                There Will Be Blood     4.5   \n",
      "0   Good, the Bad and the Ugly, The (Buono, il bru...     4.5   \n",
      "11          Three Billboards Outside Ebbing, Missouri     4.5   \n",
      "7                             Searching for Sugar Man     3.0   \n",
      "1                                   The Hateful Eight     4.0   \n",
      "4                                  King's Speech, The     4.5   \n",
      "2                                  The Imitation Game     4.0   \n",
      "3                             Kids Are All Right, The     4.0   \n",
      "8                                               Senna     3.5   \n",
      "5                                     Minority Report     3.0   \n",
      "12                                          Yesterday     2.5   \n",
      "6                                           Nomadland     4.0   \n",
      "9                                         Snowpiercer     2.0   \n",
      "\n",
      "    predicted_rating  \n",
      "10          4.569053  \n",
      "0           4.541362  \n",
      "11          4.448422  \n",
      "7           4.301978  \n",
      "1           4.269135  \n",
      "4           4.181030  \n",
      "2           4.170832  \n",
      "3           4.163702  \n",
      "8           4.071942  \n",
      "5           4.031496  \n",
      "12          3.950979  \n",
      "6           3.943505  \n",
      "9           3.884496  \n"
     ]
    }
   ],
   "source": [
    "\n",
    "\n",
    "# Initialize BigQuery client\n",
    "PROJECT_ID = \"film-wizard-453315\"\n",
    "DATASET_ID = \"Grouplens\"\n",
    "client = bigquery.Client(project=PROJECT_ID)\n",
    "\n",
    "# 🚀 **STEP 2: TEST THE MODEL ON SEPARATE IMDb CSV**\n",
    "\n",
    "# Load IMDb Ratings CSV\n",
    "my_csv = '/Users/adamdyerson/Downloads/test_movie_data_2.csv'\n",
    "your_ratings = pd.read_csv(my_csv)\n",
    "\n",
    "# Rename columns to match expected format (if necessary)\n",
    "your_ratings.rename(columns={'Your Rating': 'rating', 'Const': 'imdbId'}, inplace=True)\n",
    "\n",
    "# Fetch `movies_with_imdb` to map IMDb to MovieLens IDs\n",
    "query_movies = '''\n",
    "SELECT movieId, title, imdbId, tmdbId\n",
    "FROM `film-wizard-453315.Grouplens.movies_with_imdb`\n",
    "'''\n",
    "movies_with_imdb = client.query(query_movies).to_dataframe()\n",
    "\n",
    "# Ensure IMDb IDs are formatted properly\n",
    "your_ratings['imdbId'] = your_ratings['imdbId'].astype(str).str.zfill(7).str.replace('tt', '')\n",
    "movies_with_imdb['imdbId'] = movies_with_imdb['imdbId'].astype(str).str.zfill(7)\n",
    "\n",
    "# Match IMDb Ratings to MovieLens IDs (Only for Testing)\n",
    "test_ratings = your_ratings.merge(movies_with_imdb, on=\"imdbId\", how=\"inner\")\n",
    "test_ratings = test_ratings[['movieId', 'title', 'rating']]\n",
    "\n",
    "# Convert IMDb ratings from 10-point scale to 5-point scale\n",
    "# test_ratings['rating'] = test_ratings['rating']\n",
    "\n",
    "# Convert IMDb Test Data to Model Format\n",
    "test_ratings['user_idx'] = 0  # Dummy user ID\n",
    "test_ratings['movie_idx'] = test_ratings['movieId'].map(movie_to_idx)\n",
    "\n",
    "# Remove any movies not in training data\n",
    "test_ratings = test_ratings.dropna(subset=['movie_idx'])\n",
    "\n",
    "# Ensure test set is not empty before making predictions\n",
    "if test_ratings.empty:\n",
    "    print(\"⚠️ No movies found in the test dataset after filtering. Check IMDb ID matching.\")\n",
    "else:\n",
    "    # Make Predictions for IMDb Movies\n",
    "    X_test = [test_ratings['user_idx'].values, test_ratings['movie_idx'].values]\n",
    "    predicted_ratings = model.predict(X_test, batch_size=1024).flatten()\n",
    "\n",
    "    # Attach Predictions & Sort\n",
    "    test_ratings['predicted_rating'] = predicted_ratings\n",
    "    test_ratings = test_ratings.sort_values(by='predicted_rating', ascending=False)\n",
    "\n",
    "    print(\"🎬 **Predicted Ratings for Your IMDb Movies** 🎬\")\n",
    "    print(test_ratings[['title', 'rating', 'predicted_rating']])\n"
   ]
  },
  {
   "cell_type": "code",
   "execution_count": 32,
   "id": "b66761ec",
   "metadata": {
    "ExecuteTime": {
     "end_time": "2025-03-15T16:42:59.097186Z",
     "start_time": "2025-03-15T16:42:45.610532Z"
    },
    "id": "b66761ec"
   },
   "outputs": [],
   "source": [
    "# #Unweighted Suggestions gives obscure suggestions\n",
    "\n",
    "# # 🚀 **STEP 3: RECOMMEND NEW MOVIES BASED ON SIMILAR USERS**\n",
    "\n",
    "# # Fetch user-movie interactions from the dataset\n",
    "# query_ratings = '''\n",
    "# SELECT userId, movieId, rating\n",
    "# FROM `film-wizard-453315.Grouplens.raw_grouplens_ratings`\n",
    "# '''\n",
    "# ratings_data = client.query(query_ratings).to_dataframe()\n",
    "\n",
    "# # Identify similar users based on past ratings\n",
    "# similar_users = ratings_data[ratings_data['movieId'].isin(test_ratings['movieId'])]\n",
    "# similar_users = similar_users.groupby('userId').filter(lambda x: len(x) > 3)  # Reduce threshold to find more similar users  # Users who rated at least 3 of the same movies\n",
    "\n",
    "# # Get movie recommendations from these users\n",
    "# recommended_movies = ratings_data[ratings_data['userId'].isin(similar_users['userId'])]\n",
    "# recommended_movies = recommended_movies.groupby('movieId').agg({'rating': 'mean', 'userId': 'count'}).reset_index()\n",
    "\n",
    "# # Merge with movie titles\n",
    "# recommended_movies = recommended_movies.merge(movies_with_imdb, on='movieId', how='left')\n",
    "# recommended_movies = recommended_movies[['title', 'rating', 'userId']].sort_values(by='rating', ascending=False).head(10)\n",
    "\n",
    "# # Add explanation for recommendations\n",
    "# recommended_movies.rename(columns={'userId': 'num_users_rated'}, inplace=True)\n",
    "# recommended_movies['reason'] = recommended_movies.apply(lambda row: f\"Rated highly ({row['rating']:.2f}) by {row['num_users_rated']} users similar to you.\", axis=1)\n",
    "\n",
    "# print(\"🎥 **Recommended Movies Based on Similar Users** 🎥\")\n",
    "# print(recommended_movies[['title', 'rating', 'reason']])\n"
   ]
  },
  {
   "cell_type": "code",
   "execution_count": 28,
   "id": "5607c949",
   "metadata": {
    "ExecuteTime": {
     "end_time": "2025-03-17T15:49:13.708841Z",
     "start_time": "2025-03-17T15:48:59.473783Z"
    },
    "colab": {
     "base_uri": "https://localhost:8080/"
    },
    "id": "5607c949",
    "outputId": "57b1eeb1-3955-45ca-865d-a0b25ac234b4"
   },
   "outputs": [
    {
     "name": "stdout",
     "output_type": "stream",
     "text": [
      "🎥 **Recommended Movies Based on Similar Users** 🎥\n",
      "                                                title    rating  \\\n",
      "260                                      Pulp Fiction  4.376303   \n",
      "281                         Shawshank Redemption, The  4.360481   \n",
      "695                                    Godfather, The  4.345608   \n",
      "966                                      12 Angry Men  4.317167   \n",
      "2449                                       Fight Club  4.269252   \n",
      "18224                                Band of Brothers  4.406667   \n",
      "17423                                    Planet Earth  4.399561   \n",
      "8559          Bittersweet Life, A (Dalkomhan insaeng)  3.657371   \n",
      "6017   Lord of the Rings: The Return of the King, The  4.065732   \n",
      "11705                                     Toy Story 3  3.785892   \n",
      "\n",
      "                                                  reason  \n",
      "260    Rated highly (4.38) by 3646 users similar to you.  \n",
      "281    Rated highly (4.36) by 3573 users similar to you.  \n",
      "695    Rated highly (4.35) by 3313 users similar to you.  \n",
      "966    Rated highly (4.32) by 2330 users similar to you.  \n",
      "2449   Rated highly (4.27) by 3636 users similar to you.  \n",
      "18224  Rated highly (4.41) by 1050 users similar to you.  \n",
      "17423   Rated highly (4.40) by 911 users similar to you.  \n",
      "8559    Rated highly (3.66) by 251 users similar to you.  \n",
      "6017   Rated highly (4.07) by 3423 users similar to you.  \n",
      "11705  Rated highly (3.79) by 2417 users similar to you.  \n"
     ]
    }
   ],
   "source": [
    "#Blend of suggestions of 5 popular and 5 lesser known based on user profile\n",
    "\n",
    "# Fetch user-movie interactions from the dataset\n",
    "query_ratings = '''\n",
    "SELECT userId, movieId, rating\n",
    "FROM `film-wizard-453315.Grouplens.raw_grouplens_ratings`\n",
    "'''\n",
    "ratings_data = client.query(query_ratings).to_dataframe()\n",
    "\n",
    "# Identify similar users based on past ratings\n",
    "similar_users = ratings_data[ratings_data['movieId'].isin(test_ratings['movieId'])]\n",
    "similar_users = similar_users.groupby('userId').filter(lambda x: len(x) > 5)  # Require 5+ overlapping movies\n",
    "\n",
    "# Get movie recommendations from these users\n",
    "recommended_movies = ratings_data[ratings_data['userId'].isin(similar_users['userId'])]\n",
    "recommended_movies = recommended_movies.groupby('movieId').agg({'rating': 'mean', 'userId': 'count'}).reset_index()\n",
    "\n",
    "# Set a threshold to filter out movies with very few ratings\n",
    "recommended_movies = recommended_movies[recommended_movies['userId'] >= 10]  # Only consider movies rated by 10+ users\n",
    "\n",
    "# Merge with movie titles\n",
    "recommended_movies = recommended_movies.merge(movies_with_imdb, on='movieId', how='left')\n",
    "recommended_movies.rename(columns={'userId': 'num_users_rated'}, inplace=True)\n",
    "\n",
    "#weighted ranking to affect popular movie suggestions\n",
    "recommended_movies['adjusted_score'] = (\n",
    "    recommended_movies['rating'] * (np.log(1 + recommended_movies['num_users_rated']) ** 0.2)  # Square root dampens the effect\n",
    ")\n",
    "recommended_movies = recommended_movies.sort_values(by='adjusted_score', ascending=False)\n",
    "\n",
    "# Select top 7 highest-ranked movies\n",
    "top_ranked = recommended_movies.head(7)\n",
    "\n",
    "# Select 3 diverse, random movies from the remaining pool\n",
    "# Filter movies with a rating > 3.5 and exclude the top 7 ranked movies\n",
    "exploratory_pool = recommended_movies.iloc[7:]  # Exclude top 7\n",
    "exploratory_pool = exploratory_pool[exploratory_pool['rating'] > 3.5]  # Only movies with rating > 3.5\n",
    "\n",
    "# Ensure we have at least 3 movies to sample from\n",
    "if len(exploratory_pool) >= 3:\n",
    "    exploratory = exploratory_pool.sample(n=3, random_state=42)\n",
    "else:\n",
    "    exploratory = exploratory_pool  # Take whatever is available if fewer than 3 remain\n",
    "\n",
    "# Merge them to create the final recommendation list (before adding popular movies)\n",
    "final_recommendations = pd.concat([top_ranked, exploratory]).drop_duplicates()\n",
    "\n",
    "# Get popular movies separately\n",
    "popular_movies = ratings_data.groupby('movieId').agg({'rating': 'mean', 'userId': 'count'}).reset_index()\n",
    "popular_movies = popular_movies[popular_movies['userId'] > 3]  # Movies rated by at least 3 users\n",
    "popular_movies = popular_movies.sort_values(by='rating', ascending=False).head(5)\n",
    "\n",
    "# Merge popular movies with metadata\n",
    "popular_movies = popular_movies.merge(movies_with_imdb, on='movieId', how='left')\n",
    "\n",
    "# Now, blend popular movies with recommendations without overriding diversity\n",
    "final_recommendations = pd.concat([final_recommendations, popular_movies]).drop_duplicates(subset=['title']).head(10)\n",
    "\n",
    "# Add explanation for recommendations\n",
    "final_recommendations['reason'] = final_recommendations.apply(\n",
    "    lambda row: f\"Rated highly ({row['rating']:.2f}) by {row.get('num_users_rated', 'N/A')} users similar to you.\",\n",
    "    axis=1\n",
    ")\n",
    "\n",
    "# Display final recommendations\n",
    "print(\"🎥 **Recommended Movies Based on Similar Users** 🎥\")\n",
    "print(final_recommendations[['title', 'rating', 'reason']])\n"
   ]
  },
  {
   "cell_type": "code",
   "execution_count": null,
   "id": "wusOKLGnkxU9",
   "metadata": {
    "id": "wusOKLGnkxU9"
   },
   "outputs": [],
   "source": []
  }
 ],
 "metadata": {
  "accelerator": "GPU",
  "colab": {
   "gpuType": "T4",
   "provenance": []
  },
  "kernelspec": {
   "display_name": "Python 3 (ipykernel)",
   "language": "python",
   "name": "python3"
  },
  "language_info": {
   "codemirror_mode": {
    "name": "ipython",
    "version": 3
   },
   "file_extension": ".py",
   "mimetype": "text/x-python",
   "name": "python",
   "nbconvert_exporter": "python",
   "pygments_lexer": "ipython3",
   "version": "3.10.6"
  },
  "toc": {
   "base_numbering": 1,
   "nav_menu": {},
   "number_sections": true,
   "sideBar": true,
   "skip_h1_title": false,
   "title_cell": "Table of Contents",
   "title_sidebar": "Contents",
   "toc_cell": false,
   "toc_position": {},
   "toc_section_display": true,
   "toc_window_display": false
  },
  "varInspector": {
   "cols": {
    "lenName": 16,
    "lenType": 16,
    "lenVar": 40
   },
   "kernels_config": {
    "python": {
     "delete_cmd_postfix": "",
     "delete_cmd_prefix": "del ",
     "library": "var_list.py",
     "varRefreshCmd": "print(var_dic_list())"
    },
    "r": {
     "delete_cmd_postfix": ") ",
     "delete_cmd_prefix": "rm(",
     "library": "var_list.r",
     "varRefreshCmd": "cat(var_dic_list()) "
    }
   },
   "types_to_exclude": [
    "module",
    "function",
    "builtin_function_or_method",
    "instance",
    "_Feature"
   ],
   "window_display": false
  }
 },
 "nbformat": 4,
 "nbformat_minor": 5
}
