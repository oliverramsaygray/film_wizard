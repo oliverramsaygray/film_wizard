{
 "cells": [
  {
   "cell_type": "markdown",
   "id": "af89d170",
   "metadata": {},
   "source": [
    "# SVD Grid Search User Review Model"
   ]
  },
  {
   "cell_type": "code",
   "execution_count": 1,
   "id": "8eacfd85",
   "metadata": {
    "ExecuteTime": {
     "end_time": "2025-03-13T10:24:46.903014Z",
     "start_time": "2025-03-13T10:24:46.097811Z"
    }
   },
   "outputs": [
    {
     "name": "stdout",
     "output_type": "stream",
     "text": [
      "Requirement already satisfied: scikit-surprise in /Users/adamdyerson/.pyenv/versions/3.10.6/envs/film_wizard/lib/python3.10/site-packages (1.1.4)\n",
      "Requirement already satisfied: joblib>=1.2.0 in /Users/adamdyerson/.pyenv/versions/3.10.6/envs/film_wizard/lib/python3.10/site-packages (from scikit-surprise) (1.4.2)\n",
      "Requirement already satisfied: numpy>=1.19.5 in /Users/adamdyerson/.pyenv/versions/3.10.6/envs/film_wizard/lib/python3.10/site-packages (from scikit-surprise) (1.26.4)\n",
      "Requirement already satisfied: scipy>=1.6.0 in /Users/adamdyerson/.pyenv/versions/3.10.6/envs/film_wizard/lib/python3.10/site-packages (from scikit-surprise) (1.15.2)\n"
     ]
    }
   ],
   "source": [
    "!pip install scikit-surprise"
   ]
  },
  {
   "cell_type": "code",
   "execution_count": 3,
   "id": "48e0aa9d",
   "metadata": {
    "ExecuteTime": {
     "end_time": "2025-03-13T11:10:16.772302Z",
     "start_time": "2025-03-13T11:10:16.721040Z"
    }
   },
   "outputs": [
    {
     "name": "stdout",
     "output_type": "stream",
     "text": [
      "Authenticated successfully!\n"
     ]
    }
   ],
   "source": [
    "import os\n",
    "from google.cloud import bigquery\n",
    "\n",
    "# Initialize BigQuery client\n",
    "client = bigquery.Client()\n",
    "print(\"Authenticated successfully!\")\n"
   ]
  },
  {
   "cell_type": "code",
   "execution_count": 4,
   "id": "53d47138",
   "metadata": {
    "ExecuteTime": {
     "end_time": "2025-03-13T11:11:20.420154Z",
     "start_time": "2025-03-13T11:11:10.122110Z"
    }
   },
   "outputs": [
    {
     "name": "stdout",
     "output_type": "stream",
     "text": [
      "Best RMSE: 0.7110597059295376\n",
      "Best Parameters: {'n_factors': 7, 'reg_all': 0.05}\n",
      "RMSE: 0.7093\n",
      "Final RMSE on test set: 0.7093247905769704\n",
      "Evaluating RMSE, MAE of algorithm SVD on 5 split(s).\n",
      "\n",
      "                  Fold 1  Fold 2  Fold 3  Fold 4  Fold 5  Mean    Std     \n",
      "RMSE (testset)    0.7078  0.7065  0.7042  0.7114  0.7007  0.7061  0.0036  \n",
      "MAE (testset)     0.5783  0.5761  0.5725  0.5798  0.5725  0.5758  0.0029  \n",
      "Fit time          0.16    0.15    0.16    0.15    0.16    0.16    0.01    \n",
      "Test time         0.09    0.09    0.10    0.04    0.04    0.07    0.03    \n",
      "{'test_rmse': array([0.70780888, 0.70653273, 0.70421051, 0.71138289, 0.70074015]), 'test_mae': array([0.57826046, 0.57614165, 0.57250998, 0.57976567, 0.57254495]), 'fit_time': (0.16230201721191406, 0.14548516273498535, 0.15945792198181152, 0.1543889045715332, 0.16369295120239258), 'test_time': (0.09481596946716309, 0.09401488304138184, 0.09547901153564453, 0.0391993522644043, 0.03848981857299805)}\n"
     ]
    }
   ],
   "source": [
    "from surprise import SVD, Dataset, Reader\n",
    "from surprise.model_selection import cross_validate, train_test_split, GridSearchCV\n",
    "from surprise.accuracy import rmse\n",
    "\n",
    "from google.cloud import bigquery\n",
    "import pandas as pd\n",
    "\n",
    "# Define BigQuery client\n",
    "client = bigquery.Client(project=\"film-wizard-453315\")\n",
    "\n",
    "# Define your project and dataset\n",
    "project_id = \"film-wizard-453315\"\n",
    "ratings_table = \"film-wizard-453315.Grouplens.raw_grouplens_ratings\"\n",
    "\n",
    "\n",
    "# Query to fetch user ratings data\n",
    "query = \"\"\"\n",
    "SELECT userId, movieId, rating\n",
    "FROM `film-wizard-453315.Grouplens.raw_grouplens_ratings`\n",
    "LIMIT 100000\n",
    "\"\"\"\n",
    "ratings_df = client.query(query).to_dataframe()\n",
    "\n",
    "# Define the Surprise reader with rating scale (assuming 1-5 scale)\n",
    "reader = Reader(rating_scale=(1, 5))\n",
    "\n",
    "# Load dataset into Surprise format\n",
    "data = Dataset.load_from_df(ratings_df[['userId', 'movieId', 'rating']], reader)\n",
    "\n",
    "# Split data (80% train, 20% test)\n",
    "trainset, testset = train_test_split(data, test_size=0.2, random_state=42)\n",
    "\n",
    "### **1️⃣ Perform Grid Search to Tune SVD Hyperparameters**\n",
    "param_grid = {\n",
    "    \"n_factors\": [7, 10, 12],  # Number of latent factors\n",
    "    \"reg_all\": [0.05, 0.1, 0.15]  # Regularization strength\n",
    "}\n",
    "\n",
    "gs = GridSearchCV(SVD, param_grid, measures=[\"rmse\", \"mae\"], cv=3)\n",
    "gs.fit(data)\n",
    "\n",
    "# Print Best Parameters\n",
    "print(\"Best RMSE:\", gs.best_score[\"rmse\"])\n",
    "print(\"Best Parameters:\", gs.best_params[\"rmse\"])\n",
    "\n",
    "# Train Final Model with Best Parameters\n",
    "best_algo = SVD(n_factors=gs.best_params[\"rmse\"][\"n_factors\"], reg_all=gs.best_params[\"rmse\"][\"reg_all\"])\n",
    "best_algo.fit(trainset)\n",
    "\n",
    "### **2️⃣ Evaluate Best Model**\n",
    "# Predict on test set\n",
    "predictions = best_algo.test(testset)\n",
    "\n",
    "# Evaluate RMSE (lower is better)\n",
    "print(\"Final RMSE on test set:\", rmse(predictions))\n",
    "\n",
    "# Perform cross-validation\n",
    "cv_results = cross_validate(best_algo, data, cv=5, verbose=True)\n",
    "\n",
    "# Show cross-validation results\n",
    "print(cv_results)\n"
   ]
  },
  {
   "cell_type": "code",
   "execution_count": null,
   "id": "d105bd81",
   "metadata": {},
   "outputs": [],
   "source": []
  }
 ],
 "metadata": {
  "kernelspec": {
   "display_name": "Python 3 (ipykernel)",
   "language": "python",
   "name": "python3"
  },
  "language_info": {
   "codemirror_mode": {
    "name": "ipython",
    "version": 3
   },
   "file_extension": ".py",
   "mimetype": "text/x-python",
   "name": "python",
   "nbconvert_exporter": "python",
   "pygments_lexer": "ipython3",
   "version": "3.10.6"
  },
  "toc": {
   "base_numbering": 1,
   "nav_menu": {},
   "number_sections": true,
   "sideBar": true,
   "skip_h1_title": false,
   "title_cell": "Table of Contents",
   "title_sidebar": "Contents",
   "toc_cell": false,
   "toc_position": {},
   "toc_section_display": true,
   "toc_window_display": false
  },
  "varInspector": {
   "cols": {
    "lenName": 16,
    "lenType": 16,
    "lenVar": 40
   },
   "kernels_config": {
    "python": {
     "delete_cmd_postfix": "",
     "delete_cmd_prefix": "del ",
     "library": "var_list.py",
     "varRefreshCmd": "print(var_dic_list())"
    },
    "r": {
     "delete_cmd_postfix": ") ",
     "delete_cmd_prefix": "rm(",
     "library": "var_list.r",
     "varRefreshCmd": "cat(var_dic_list()) "
    }
   },
   "types_to_exclude": [
    "module",
    "function",
    "builtin_function_or_method",
    "instance",
    "_Feature"
   ],
   "window_display": false
  }
 },
 "nbformat": 4,
 "nbformat_minor": 5
}
