{
 "cells": [
  {
   "cell_type": "code",
   "execution_count": 9,
   "id": "f41e6dbd-6242-4aab-a064-544a0d5d0477",
   "metadata": {},
   "outputs": [],
   "source": [
    "import csv\n",
    "import pandas as pd\n",
    "from rapidfuzz import fuzz, process"
   ]
  },
  {
   "cell_type": "code",
   "execution_count": 10,
   "id": "84f88f06-3e55-4c3e-af79-dba077385f19",
   "metadata": {},
   "outputs": [
    {
     "name": "stdout",
     "output_type": "stream",
     "text": [
      "Authenticated successfully!\n"
     ]
    }
   ],
   "source": [
    "from google.cloud import bigquery\n",
    "\n",
    "# Initialize BigQuery client\n",
    "client = bigquery.Client()\n",
    "print(\"Authenticated successfully!\")"
   ]
  },
  {
   "cell_type": "code",
   "execution_count": 4,
   "id": "fae228bd-cc44-4056-b458-e2a52b0764a0",
   "metadata": {},
   "outputs": [],
   "source": [
    "sample_user_file_path = '../raw_data/sample_user_input.csv'"
   ]
  },
  {
   "cell_type": "code",
   "execution_count": 20,
   "id": "bb1d214f-c04c-49a5-b6b9-9b1ac9083349",
   "metadata": {},
   "outputs": [
    {
     "data": {
      "text/html": [
       "<div>\n",
       "<style scoped>\n",
       "    .dataframe tbody tr th:only-of-type {\n",
       "        vertical-align: middle;\n",
       "    }\n",
       "\n",
       "    .dataframe tbody tr th {\n",
       "        vertical-align: top;\n",
       "    }\n",
       "\n",
       "    .dataframe thead th {\n",
       "        text-align: right;\n",
       "    }\n",
       "</style>\n",
       "<table border=\"1\" class=\"dataframe\">\n",
       "  <thead>\n",
       "    <tr style=\"text-align: right;\">\n",
       "      <th></th>\n",
       "      <th>title</th>\n",
       "      <th>rating</th>\n",
       "    </tr>\n",
       "  </thead>\n",
       "  <tbody>\n",
       "    <tr>\n",
       "      <th>0</th>\n",
       "      <td>Pride and Prejudice</td>\n",
       "      <td>10</td>\n",
       "    </tr>\n",
       "    <tr>\n",
       "      <th>1</th>\n",
       "      <td>Lord of the Rings: the fellowship of the ring</td>\n",
       "      <td>10</td>\n",
       "    </tr>\n",
       "    <tr>\n",
       "      <th>2</th>\n",
       "      <td>Lord of the Rings: The Two Towers</td>\n",
       "      <td>10</td>\n",
       "    </tr>\n",
       "    <tr>\n",
       "      <th>3</th>\n",
       "      <td>Lord of the Rings: The return of the king</td>\n",
       "      <td>10</td>\n",
       "    </tr>\n",
       "    <tr>\n",
       "      <th>4</th>\n",
       "      <td>Brooklyn</td>\n",
       "      <td>10</td>\n",
       "    </tr>\n",
       "    <tr>\n",
       "      <th>5</th>\n",
       "      <td>The   Shawshank Redemption</td>\n",
       "      <td>10</td>\n",
       "    </tr>\n",
       "    <tr>\n",
       "      <th>6</th>\n",
       "      <td>Erin Brockovich</td>\n",
       "      <td>8</td>\n",
       "    </tr>\n",
       "    <tr>\n",
       "      <th>7</th>\n",
       "      <td>Help, The (2011)</td>\n",
       "      <td>8</td>\n",
       "    </tr>\n",
       "    <tr>\n",
       "      <th>8</th>\n",
       "      <td>Bridget Jones Diary</td>\n",
       "      <td>8</td>\n",
       "    </tr>\n",
       "    <tr>\n",
       "      <th>9</th>\n",
       "      <td>Happy Gilmore</td>\n",
       "      <td>0</td>\n",
       "    </tr>\n",
       "  </tbody>\n",
       "</table>\n",
       "</div>"
      ],
      "text/plain": [
       "                                           title   rating\n",
       "0                            Pride and Prejudice       10\n",
       "1  Lord of the Rings: the fellowship of the ring       10\n",
       "2              Lord of the Rings: The Two Towers       10\n",
       "3      Lord of the Rings: The return of the king       10\n",
       "4                                       Brooklyn       10\n",
       "5                     The   Shawshank Redemption       10\n",
       "6                                Erin Brockovich        8\n",
       "7                               Help, The (2011)        8\n",
       "8                            Bridget Jones Diary        8\n",
       "9                                  Happy Gilmore        0"
      ]
     },
     "execution_count": 20,
     "metadata": {},
     "output_type": "execute_result"
    }
   ],
   "source": [
    "user_titles_df = pd.read_csv(sample_user_file_path)\n",
    "user_titles_df"
   ]
  },
  {
   "cell_type": "code",
   "execution_count": 11,
   "id": "948c2bdd-b566-43d4-8e51-b37dbd04af6d",
   "metadata": {},
   "outputs": [
    {
     "name": "stderr",
     "output_type": "stream",
     "text": [
      "/home/joshmcm/.pyenv/versions/3.10.6/envs/film_wizard/lib/python3.10/site-packages/google/cloud/bigquery/table.py:1900: UserWarning: BigQuery Storage module not found, fetch data with the REST endpoint instead.\n",
      "  warnings.warn(\n"
     ]
    },
    {
     "data": {
      "text/html": [
       "<div>\n",
       "<style scoped>\n",
       "    .dataframe tbody tr th:only-of-type {\n",
       "        vertical-align: middle;\n",
       "    }\n",
       "\n",
       "    .dataframe tbody tr th {\n",
       "        vertical-align: top;\n",
       "    }\n",
       "\n",
       "    .dataframe thead th {\n",
       "        text-align: right;\n",
       "    }\n",
       "</style>\n",
       "<table border=\"1\" class=\"dataframe\">\n",
       "  <thead>\n",
       "    <tr style=\"text-align: right;\">\n",
       "      <th></th>\n",
       "      <th>movieId</th>\n",
       "      <th>title</th>\n",
       "    </tr>\n",
       "  </thead>\n",
       "  <tbody>\n",
       "    <tr>\n",
       "      <th>0</th>\n",
       "      <td>181685</td>\n",
       "      <td>به نام پدر</td>\n",
       "    </tr>\n",
       "    <tr>\n",
       "      <th>1</th>\n",
       "      <td>139596</td>\n",
       "      <td>Danielův svět</td>\n",
       "    </tr>\n",
       "    <tr>\n",
       "      <th>2</th>\n",
       "      <td>151307</td>\n",
       "      <td>The Lovers and the Despot</td>\n",
       "    </tr>\n",
       "    <tr>\n",
       "      <th>3</th>\n",
       "      <td>178223</td>\n",
       "      <td>Injecting Aluminum</td>\n",
       "    </tr>\n",
       "    <tr>\n",
       "      <th>4</th>\n",
       "      <td>189345</td>\n",
       "      <td>The Doctor From India</td>\n",
       "    </tr>\n",
       "  </tbody>\n",
       "</table>\n",
       "</div>"
      ],
      "text/plain": [
       "   movieId                      title\n",
       "0   181685                 به نام پدر\n",
       "1   139596              Danielův svět\n",
       "2   151307  The Lovers and the Despot\n",
       "3   178223         Injecting Aluminum\n",
       "4   189345      The Doctor From India"
      ]
     },
     "execution_count": 11,
     "metadata": {},
     "output_type": "execute_result"
    }
   ],
   "source": [
    "query = \"\"\"\n",
    "SELECT movieId, title\n",
    "FROM `film-wizard-453315.Grouplens.grouplens_movies`\n",
    "\"\"\"\n",
    "\n",
    "grouplens_movies_df = client.query(query).to_dataframe()\n",
    "\n",
    "grouplens_movies_df.head()"
   ]
  },
  {
   "cell_type": "code",
   "execution_count": 13,
   "id": "e9c65995-08f5-4feb-8785-12f49cea1d1f",
   "metadata": {},
   "outputs": [],
   "source": [
    "choices = grouplens_movies_df['title']"
   ]
  },
  {
   "cell_type": "code",
   "execution_count": 22,
   "id": "b48f8a14-0956-4221-a0da-5d1987096400",
   "metadata": {},
   "outputs": [
    {
     "name": "stdout",
     "output_type": "stream",
     "text": [
      "[('Pride and Prejudice', 100.0, 8657), ('Pride and Prejudice', 100.0, 38172), ('Pride and Prejudice', 100.0, 38319)]\n",
      "[('Lord of the Rings: The Fellowship of the Ring, The', 88.42105263157895, 19605), ('The Lovers and the Despot', 85.5, 2), ('Yosemite: The Fate of Heaven', 85.5, 8)]\n",
      "[('Lord of the Rings: The Two Towers, The', 93.5820895522388, 19608), ('Tower', 90.0, 44408), ('Tower', 90.0, 65095)]\n",
      "[('Lord of the Rings: The Return of the King, The', 89.65517241379311, 9010), ('Lord of the Rings, The', 85.9090909090909, 17443), ('The Lovers and the Despot', 85.5, 2)]\n",
      "[('Brooklyn', 100.0, 73986), ('My Brooklyn', 95.0, 52303), ('Brooklyn 45', 95.0, 83055)]\n",
      "[('Shawshank Redemption, The', 93.0612244897959, 45067), ('Redemption', 90.0, 5333), ('Redemption', 90.0, 13714)]\n",
      "[('Erin Brockovich', 100.0, 61944), ('Tiny: The Life of Erin Blackwell', 85.5, 53654), ('Bros', 73.28571428571429, 43354)]\n",
      "[('Hel', 90.0, 4744), ('Help, The', 90.0, 64718), ('The Lovers and the Despot', 85.5, 2)]\n",
      "[(\"Bridget Jones's Diary\", 95.0, 38590), ('Diary', 90.0, 48967), ('Dia', 90.0, 74384)]\n",
      "[('Happy Gilmore', 100.0, 28758), ('Happy', 90.0, 56362), ('Happy', 90.0, 73333)]\n"
     ]
    }
   ],
   "source": [
    "for query in user_titles_df['title']:\n",
    "    print(process.extract(query, choices, limit=3))"
   ]
  },
  {
   "cell_type": "code",
   "execution_count": null,
   "id": "860b08c0-0fba-47a5-9f3c-0c218ac7f311",
   "metadata": {},
   "outputs": [],
   "source": []
  },
  {
   "cell_type": "code",
   "execution_count": null,
   "id": "c259f7ce-9fbd-4ec4-93d8-8e36856d9a0d",
   "metadata": {},
   "outputs": [],
   "source": []
  },
  {
   "cell_type": "code",
   "execution_count": null,
   "id": "f69468dd-671a-4161-b3d9-ab9c3748e02e",
   "metadata": {},
   "outputs": [],
   "source": []
  },
  {
   "cell_type": "code",
   "execution_count": null,
   "id": "84867e8b-3182-4ec4-902f-a20980b2bb06",
   "metadata": {},
   "outputs": [],
   "source": []
  },
  {
   "cell_type": "code",
   "execution_count": null,
   "id": "e404ec01-cb9d-42bd-ba22-6a5e7f901272",
   "metadata": {},
   "outputs": [],
   "source": []
  },
  {
   "cell_type": "code",
   "execution_count": null,
   "id": "4c6d1411-5aec-4ed5-af12-fe0622d54c96",
   "metadata": {},
   "outputs": [],
   "source": []
  },
  {
   "cell_type": "code",
   "execution_count": null,
   "id": "40bc5c9f-56e1-4edc-b313-ed2d812a2971",
   "metadata": {},
   "outputs": [],
   "source": []
  },
  {
   "cell_type": "code",
   "execution_count": null,
   "id": "1ca9d318-c0f2-47cf-b430-e66cc860d14e",
   "metadata": {},
   "outputs": [],
   "source": []
  },
  {
   "cell_type": "code",
   "execution_count": null,
   "id": "7b92e2cb-c4f6-4eba-8649-2e63217a93df",
   "metadata": {},
   "outputs": [],
   "source": []
  }
 ],
 "metadata": {
  "kernelspec": {
   "display_name": "Python 3 (ipykernel)",
   "language": "python",
   "name": "python3"
  },
  "language_info": {
   "codemirror_mode": {
    "name": "ipython",
    "version": 3
   },
   "file_extension": ".py",
   "mimetype": "text/x-python",
   "name": "python",
   "nbconvert_exporter": "python",
   "pygments_lexer": "ipython3",
   "version": "3.10.6"
  }
 },
 "nbformat": 4,
 "nbformat_minor": 5
}
