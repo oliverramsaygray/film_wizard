{
 "cells": [
  {
   "cell_type": "code",
   "execution_count": 1,
   "id": "2436774d-7df6-402b-855d-4fc3614b0c8e",
   "metadata": {},
   "outputs": [
    {
     "ename": "RuntimeError",
     "evalue": "Failed to import transformers.pipelines because of the following error (look up to see its traceback):\nNo module named '_lzma'",
     "output_type": "error",
     "traceback": [
      "\u001b[0;31m---------------------------------------------------------------------------\u001b[0m",
      "\u001b[0;31mModuleNotFoundError\u001b[0m                       Traceback (most recent call last)",
      "File \u001b[0;32m~/.pyenv/versions/3.10.6/envs/film_wizard/lib/python3.10/site-packages/transformers/utils/import_utils.py:1863\u001b[0m, in \u001b[0;36m_LazyModule._get_module\u001b[0;34m(self, module_name)\u001b[0m\n\u001b[1;32m   1862\u001b[0m \u001b[38;5;28;01mtry\u001b[39;00m:\n\u001b[0;32m-> 1863\u001b[0m     \u001b[38;5;28;01mreturn\u001b[39;00m \u001b[43mimportlib\u001b[49m\u001b[38;5;241;43m.\u001b[39;49m\u001b[43mimport_module\u001b[49m\u001b[43m(\u001b[49m\u001b[38;5;124;43m\"\u001b[39;49m\u001b[38;5;124;43m.\u001b[39;49m\u001b[38;5;124;43m\"\u001b[39;49m\u001b[43m \u001b[49m\u001b[38;5;241;43m+\u001b[39;49m\u001b[43m \u001b[49m\u001b[43mmodule_name\u001b[49m\u001b[43m,\u001b[49m\u001b[43m \u001b[49m\u001b[38;5;28;43mself\u001b[39;49m\u001b[38;5;241;43m.\u001b[39;49m\u001b[38;5;18;43m__name__\u001b[39;49m\u001b[43m)\u001b[49m\n\u001b[1;32m   1864\u001b[0m \u001b[38;5;28;01mexcept\u001b[39;00m \u001b[38;5;167;01mException\u001b[39;00m \u001b[38;5;28;01mas\u001b[39;00m e:\n",
      "File \u001b[0;32m~/.pyenv/versions/3.10.6/lib/python3.10/importlib/__init__.py:126\u001b[0m, in \u001b[0;36mimport_module\u001b[0;34m(name, package)\u001b[0m\n\u001b[1;32m    125\u001b[0m         level \u001b[38;5;241m+\u001b[39m\u001b[38;5;241m=\u001b[39m \u001b[38;5;241m1\u001b[39m\n\u001b[0;32m--> 126\u001b[0m \u001b[38;5;28;01mreturn\u001b[39;00m \u001b[43m_bootstrap\u001b[49m\u001b[38;5;241;43m.\u001b[39;49m\u001b[43m_gcd_import\u001b[49m\u001b[43m(\u001b[49m\u001b[43mname\u001b[49m\u001b[43m[\u001b[49m\u001b[43mlevel\u001b[49m\u001b[43m:\u001b[49m\u001b[43m]\u001b[49m\u001b[43m,\u001b[49m\u001b[43m \u001b[49m\u001b[43mpackage\u001b[49m\u001b[43m,\u001b[49m\u001b[43m \u001b[49m\u001b[43mlevel\u001b[49m\u001b[43m)\u001b[49m\n",
      "File \u001b[0;32m<frozen importlib._bootstrap>:1050\u001b[0m, in \u001b[0;36m_gcd_import\u001b[0;34m(name, package, level)\u001b[0m\n",
      "File \u001b[0;32m<frozen importlib._bootstrap>:1027\u001b[0m, in \u001b[0;36m_find_and_load\u001b[0;34m(name, import_)\u001b[0m\n",
      "File \u001b[0;32m<frozen importlib._bootstrap>:1006\u001b[0m, in \u001b[0;36m_find_and_load_unlocked\u001b[0;34m(name, import_)\u001b[0m\n",
      "File \u001b[0;32m<frozen importlib._bootstrap>:688\u001b[0m, in \u001b[0;36m_load_unlocked\u001b[0;34m(spec)\u001b[0m\n",
      "File \u001b[0;32m<frozen importlib._bootstrap_external>:883\u001b[0m, in \u001b[0;36mexec_module\u001b[0;34m(self, module)\u001b[0m\n",
      "File \u001b[0;32m<frozen importlib._bootstrap>:241\u001b[0m, in \u001b[0;36m_call_with_frames_removed\u001b[0;34m(f, *args, **kwds)\u001b[0m\n",
      "File \u001b[0;32m~/.pyenv/versions/3.10.6/envs/film_wizard/lib/python3.10/site-packages/transformers/pipelines/__init__.py:26\u001b[0m\n\u001b[1;32m     25\u001b[0m \u001b[38;5;28;01mfrom\u001b[39;00m\u001b[38;5;250m \u001b[39m\u001b[38;5;21;01m.\u001b[39;00m\u001b[38;5;21;01m.\u001b[39;00m\u001b[38;5;21;01mfeature_extraction_utils\u001b[39;00m\u001b[38;5;250m \u001b[39m\u001b[38;5;28;01mimport\u001b[39;00m PreTrainedFeatureExtractor\n\u001b[0;32m---> 26\u001b[0m \u001b[38;5;28;01mfrom\u001b[39;00m\u001b[38;5;250m \u001b[39m\u001b[38;5;21;01m.\u001b[39;00m\u001b[38;5;21;01m.\u001b[39;00m\u001b[38;5;21;01mimage_processing_utils\u001b[39;00m\u001b[38;5;250m \u001b[39m\u001b[38;5;28;01mimport\u001b[39;00m BaseImageProcessor\n\u001b[1;32m     27\u001b[0m \u001b[38;5;28;01mfrom\u001b[39;00m\u001b[38;5;250m \u001b[39m\u001b[38;5;21;01m.\u001b[39;00m\u001b[38;5;21;01m.\u001b[39;00m\u001b[38;5;21;01mmodels\u001b[39;00m\u001b[38;5;21;01m.\u001b[39;00m\u001b[38;5;21;01mauto\u001b[39;00m\u001b[38;5;21;01m.\u001b[39;00m\u001b[38;5;21;01mconfiguration_auto\u001b[39;00m\u001b[38;5;250m \u001b[39m\u001b[38;5;28;01mimport\u001b[39;00m AutoConfig\n",
      "File \u001b[0;32m~/.pyenv/versions/3.10.6/envs/film_wizard/lib/python3.10/site-packages/transformers/image_processing_utils.py:22\u001b[0m\n\u001b[1;32m     21\u001b[0m \u001b[38;5;28;01mfrom\u001b[39;00m\u001b[38;5;250m \u001b[39m\u001b[38;5;21;01m.\u001b[39;00m\u001b[38;5;21;01mimage_processing_base\u001b[39;00m\u001b[38;5;250m \u001b[39m\u001b[38;5;28;01mimport\u001b[39;00m BatchFeature, ImageProcessingMixin\n\u001b[0;32m---> 22\u001b[0m \u001b[38;5;28;01mfrom\u001b[39;00m\u001b[38;5;250m \u001b[39m\u001b[38;5;21;01m.\u001b[39;00m\u001b[38;5;21;01mimage_transforms\u001b[39;00m\u001b[38;5;250m \u001b[39m\u001b[38;5;28;01mimport\u001b[39;00m center_crop, normalize, rescale\n\u001b[1;32m     23\u001b[0m \u001b[38;5;28;01mfrom\u001b[39;00m\u001b[38;5;250m \u001b[39m\u001b[38;5;21;01m.\u001b[39;00m\u001b[38;5;21;01mimage_utils\u001b[39;00m\u001b[38;5;250m \u001b[39m\u001b[38;5;28;01mimport\u001b[39;00m ChannelDimension, get_image_size\n",
      "File \u001b[0;32m~/.pyenv/versions/3.10.6/envs/film_wizard/lib/python3.10/site-packages/transformers/image_transforms.py:22\u001b[0m\n\u001b[1;32m     20\u001b[0m \u001b[38;5;28;01mimport\u001b[39;00m\u001b[38;5;250m \u001b[39m\u001b[38;5;21;01mnumpy\u001b[39;00m\u001b[38;5;250m \u001b[39m\u001b[38;5;28;01mas\u001b[39;00m\u001b[38;5;250m \u001b[39m\u001b[38;5;21;01mnp\u001b[39;00m\n\u001b[0;32m---> 22\u001b[0m \u001b[38;5;28;01mfrom\u001b[39;00m\u001b[38;5;250m \u001b[39m\u001b[38;5;21;01m.\u001b[39;00m\u001b[38;5;21;01mimage_utils\u001b[39;00m\u001b[38;5;250m \u001b[39m\u001b[38;5;28;01mimport\u001b[39;00m (\n\u001b[1;32m     23\u001b[0m     ChannelDimension,\n\u001b[1;32m     24\u001b[0m     ImageInput,\n\u001b[1;32m     25\u001b[0m     get_channel_dimension_axis,\n\u001b[1;32m     26\u001b[0m     get_image_size,\n\u001b[1;32m     27\u001b[0m     infer_channel_dimension_format,\n\u001b[1;32m     28\u001b[0m )\n\u001b[1;32m     29\u001b[0m \u001b[38;5;28;01mfrom\u001b[39;00m\u001b[38;5;250m \u001b[39m\u001b[38;5;21;01m.\u001b[39;00m\u001b[38;5;21;01mutils\u001b[39;00m\u001b[38;5;250m \u001b[39m\u001b[38;5;28;01mimport\u001b[39;00m ExplicitEnum, TensorType, is_jax_tensor, is_tf_tensor, is_torch_tensor\n",
      "File \u001b[0;32m~/.pyenv/versions/3.10.6/envs/film_wizard/lib/python3.10/site-packages/transformers/image_utils.py:65\u001b[0m\n\u001b[1;32m     64\u001b[0m \u001b[38;5;28;01mif\u001b[39;00m is_torchvision_available():\n\u001b[0;32m---> 65\u001b[0m     \u001b[38;5;28;01mfrom\u001b[39;00m\u001b[38;5;250m \u001b[39m\u001b[38;5;21;01mtorchvision\u001b[39;00m\u001b[38;5;250m \u001b[39m\u001b[38;5;28;01mimport\u001b[39;00m io \u001b[38;5;28;01mas\u001b[39;00m torchvision_io\n\u001b[1;32m     66\u001b[0m     \u001b[38;5;28;01mfrom\u001b[39;00m\u001b[38;5;250m \u001b[39m\u001b[38;5;21;01mtorchvision\u001b[39;00m\u001b[38;5;21;01m.\u001b[39;00m\u001b[38;5;21;01mtransforms\u001b[39;00m\u001b[38;5;250m \u001b[39m\u001b[38;5;28;01mimport\u001b[39;00m InterpolationMode\n",
      "File \u001b[0;32m~/.pyenv/versions/3.10.6/envs/film_wizard/lib/python3.10/site-packages/torchvision/__init__.py:10\u001b[0m\n\u001b[1;32m      9\u001b[0m \u001b[38;5;28;01mfrom\u001b[39;00m\u001b[38;5;250m \u001b[39m\u001b[38;5;21;01m.\u001b[39;00m\u001b[38;5;21;01mextension\u001b[39;00m\u001b[38;5;250m \u001b[39m\u001b[38;5;28;01mimport\u001b[39;00m _HAS_OPS  \u001b[38;5;66;03m# usort:skip\u001b[39;00m\n\u001b[0;32m---> 10\u001b[0m \u001b[38;5;28;01mfrom\u001b[39;00m\u001b[38;5;250m \u001b[39m\u001b[38;5;21;01mtorchvision\u001b[39;00m\u001b[38;5;250m \u001b[39m\u001b[38;5;28;01mimport\u001b[39;00m _meta_registrations, datasets, io, models, ops, transforms, utils  \u001b[38;5;66;03m# usort:skip\u001b[39;00m\n\u001b[1;32m     12\u001b[0m \u001b[38;5;28;01mtry\u001b[39;00m:\n",
      "File \u001b[0;32m~/.pyenv/versions/3.10.6/envs/film_wizard/lib/python3.10/site-packages/torchvision/datasets/__init__.py:1\u001b[0m\n\u001b[0;32m----> 1\u001b[0m \u001b[38;5;28;01mfrom\u001b[39;00m\u001b[38;5;250m \u001b[39m\u001b[38;5;21;01m.\u001b[39;00m\u001b[38;5;21;01m_optical_flow\u001b[39;00m\u001b[38;5;250m \u001b[39m\u001b[38;5;28;01mimport\u001b[39;00m FlyingChairs, FlyingThings3D, HD1K, KittiFlow, Sintel\n\u001b[1;32m      2\u001b[0m \u001b[38;5;28;01mfrom\u001b[39;00m\u001b[38;5;250m \u001b[39m\u001b[38;5;21;01m.\u001b[39;00m\u001b[38;5;21;01m_stereo_matching\u001b[39;00m\u001b[38;5;250m \u001b[39m\u001b[38;5;28;01mimport\u001b[39;00m (\n\u001b[1;32m      3\u001b[0m     CarlaStereo,\n\u001b[1;32m      4\u001b[0m     CREStereo,\n\u001b[0;32m   (...)\u001b[0m\n\u001b[1;32m     12\u001b[0m     SintelStereo,\n\u001b[1;32m     13\u001b[0m )\n",
      "File \u001b[0;32m~/.pyenv/versions/3.10.6/envs/film_wizard/lib/python3.10/site-packages/torchvision/datasets/_optical_flow.py:13\u001b[0m\n\u001b[1;32m     12\u001b[0m \u001b[38;5;28;01mfrom\u001b[39;00m\u001b[38;5;250m \u001b[39m\u001b[38;5;21;01m.\u001b[39;00m\u001b[38;5;21;01m.\u001b[39;00m\u001b[38;5;21;01mio\u001b[39;00m\u001b[38;5;21;01m.\u001b[39;00m\u001b[38;5;21;01mimage\u001b[39;00m\u001b[38;5;250m \u001b[39m\u001b[38;5;28;01mimport\u001b[39;00m decode_png, read_file\n\u001b[0;32m---> 13\u001b[0m \u001b[38;5;28;01mfrom\u001b[39;00m\u001b[38;5;250m \u001b[39m\u001b[38;5;21;01m.\u001b[39;00m\u001b[38;5;21;01mutils\u001b[39;00m\u001b[38;5;250m \u001b[39m\u001b[38;5;28;01mimport\u001b[39;00m _read_pfm, verify_str_arg\n\u001b[1;32m     14\u001b[0m \u001b[38;5;28;01mfrom\u001b[39;00m\u001b[38;5;250m \u001b[39m\u001b[38;5;21;01m.\u001b[39;00m\u001b[38;5;21;01mvision\u001b[39;00m\u001b[38;5;250m \u001b[39m\u001b[38;5;28;01mimport\u001b[39;00m VisionDataset\n",
      "File \u001b[0;32m~/.pyenv/versions/3.10.6/envs/film_wizard/lib/python3.10/site-packages/torchvision/datasets/utils.py:4\u001b[0m\n\u001b[1;32m      3\u001b[0m \u001b[38;5;28;01mimport\u001b[39;00m\u001b[38;5;250m \u001b[39m\u001b[38;5;21;01mhashlib\u001b[39;00m\n\u001b[0;32m----> 4\u001b[0m \u001b[38;5;28;01mimport\u001b[39;00m\u001b[38;5;250m \u001b[39m\u001b[38;5;21;01mlzma\u001b[39;00m\n\u001b[1;32m      5\u001b[0m \u001b[38;5;28;01mimport\u001b[39;00m\u001b[38;5;250m \u001b[39m\u001b[38;5;21;01mos\u001b[39;00m\n",
      "File \u001b[0;32m~/.pyenv/versions/3.10.6/lib/python3.10/lzma.py:27\u001b[0m\n\u001b[1;32m     26\u001b[0m \u001b[38;5;28;01mimport\u001b[39;00m\u001b[38;5;250m \u001b[39m\u001b[38;5;21;01mos\u001b[39;00m\n\u001b[0;32m---> 27\u001b[0m \u001b[38;5;28;01mfrom\u001b[39;00m\u001b[38;5;250m \u001b[39m\u001b[38;5;21;01m_lzma\u001b[39;00m\u001b[38;5;250m \u001b[39m\u001b[38;5;28;01mimport\u001b[39;00m \u001b[38;5;241m*\u001b[39m\n\u001b[1;32m     28\u001b[0m \u001b[38;5;28;01mfrom\u001b[39;00m\u001b[38;5;250m \u001b[39m\u001b[38;5;21;01m_lzma\u001b[39;00m\u001b[38;5;250m \u001b[39m\u001b[38;5;28;01mimport\u001b[39;00m _encode_filter_properties, _decode_filter_properties\n",
      "\u001b[0;31mModuleNotFoundError\u001b[0m: No module named '_lzma'",
      "\nThe above exception was the direct cause of the following exception:\n",
      "\u001b[0;31mRuntimeError\u001b[0m                              Traceback (most recent call last)",
      "Cell \u001b[0;32mIn[1], line 1\u001b[0m\n\u001b[0;32m----> 1\u001b[0m \u001b[38;5;28;01mfrom\u001b[39;00m\u001b[38;5;250m \u001b[39m\u001b[38;5;21;01mtransformers\u001b[39;00m\u001b[38;5;250m \u001b[39m\u001b[38;5;28;01mimport\u001b[39;00m pipeline\n\u001b[1;32m      2\u001b[0m \u001b[38;5;28;01mimport\u001b[39;00m\u001b[38;5;250m \u001b[39m\u001b[38;5;21;01mpandas\u001b[39;00m\u001b[38;5;250m \u001b[39m\u001b[38;5;28;01mas\u001b[39;00m\u001b[38;5;250m \u001b[39m\u001b[38;5;21;01mpd\u001b[39;00m\n\u001b[1;32m      3\u001b[0m \u001b[38;5;28;01mimport\u001b[39;00m\u001b[38;5;250m \u001b[39m\u001b[38;5;21;01mstring\u001b[39;00m\n",
      "File \u001b[0;32m<frozen importlib._bootstrap>:1075\u001b[0m, in \u001b[0;36m_handle_fromlist\u001b[0;34m(module, fromlist, import_, recursive)\u001b[0m\n",
      "File \u001b[0;32m~/.pyenv/versions/3.10.6/envs/film_wizard/lib/python3.10/site-packages/transformers/utils/import_utils.py:1851\u001b[0m, in \u001b[0;36m_LazyModule.__getattr__\u001b[0;34m(self, name)\u001b[0m\n\u001b[1;32m   1849\u001b[0m     value \u001b[38;5;241m=\u001b[39m Placeholder\n\u001b[1;32m   1850\u001b[0m \u001b[38;5;28;01melif\u001b[39;00m name \u001b[38;5;129;01min\u001b[39;00m \u001b[38;5;28mself\u001b[39m\u001b[38;5;241m.\u001b[39m_class_to_module\u001b[38;5;241m.\u001b[39mkeys():\n\u001b[0;32m-> 1851\u001b[0m     module \u001b[38;5;241m=\u001b[39m \u001b[38;5;28;43mself\u001b[39;49m\u001b[38;5;241;43m.\u001b[39;49m\u001b[43m_get_module\u001b[49m\u001b[43m(\u001b[49m\u001b[38;5;28;43mself\u001b[39;49m\u001b[38;5;241;43m.\u001b[39;49m\u001b[43m_class_to_module\u001b[49m\u001b[43m[\u001b[49m\u001b[43mname\u001b[49m\u001b[43m]\u001b[49m\u001b[43m)\u001b[49m\n\u001b[1;32m   1852\u001b[0m     value \u001b[38;5;241m=\u001b[39m \u001b[38;5;28mgetattr\u001b[39m(module, name)\n\u001b[1;32m   1853\u001b[0m \u001b[38;5;28;01melif\u001b[39;00m name \u001b[38;5;129;01min\u001b[39;00m \u001b[38;5;28mself\u001b[39m\u001b[38;5;241m.\u001b[39m_modules:\n",
      "File \u001b[0;32m~/.pyenv/versions/3.10.6/envs/film_wizard/lib/python3.10/site-packages/transformers/utils/import_utils.py:1865\u001b[0m, in \u001b[0;36m_LazyModule._get_module\u001b[0;34m(self, module_name)\u001b[0m\n\u001b[1;32m   1863\u001b[0m     \u001b[38;5;28;01mreturn\u001b[39;00m importlib\u001b[38;5;241m.\u001b[39mimport_module(\u001b[38;5;124m\"\u001b[39m\u001b[38;5;124m.\u001b[39m\u001b[38;5;124m\"\u001b[39m \u001b[38;5;241m+\u001b[39m module_name, \u001b[38;5;28mself\u001b[39m\u001b[38;5;241m.\u001b[39m\u001b[38;5;18m__name__\u001b[39m)\n\u001b[1;32m   1864\u001b[0m \u001b[38;5;28;01mexcept\u001b[39;00m \u001b[38;5;167;01mException\u001b[39;00m \u001b[38;5;28;01mas\u001b[39;00m e:\n\u001b[0;32m-> 1865\u001b[0m     \u001b[38;5;28;01mraise\u001b[39;00m \u001b[38;5;167;01mRuntimeError\u001b[39;00m(\n\u001b[1;32m   1866\u001b[0m         \u001b[38;5;124mf\u001b[39m\u001b[38;5;124m\"\u001b[39m\u001b[38;5;124mFailed to import \u001b[39m\u001b[38;5;132;01m{\u001b[39;00m\u001b[38;5;28mself\u001b[39m\u001b[38;5;241m.\u001b[39m\u001b[38;5;18m__name__\u001b[39m\u001b[38;5;132;01m}\u001b[39;00m\u001b[38;5;124m.\u001b[39m\u001b[38;5;132;01m{\u001b[39;00mmodule_name\u001b[38;5;132;01m}\u001b[39;00m\u001b[38;5;124m because of the following error (look up to see its\u001b[39m\u001b[38;5;124m\"\u001b[39m\n\u001b[1;32m   1867\u001b[0m         \u001b[38;5;124mf\u001b[39m\u001b[38;5;124m\"\u001b[39m\u001b[38;5;124m traceback):\u001b[39m\u001b[38;5;130;01m\\n\u001b[39;00m\u001b[38;5;132;01m{\u001b[39;00me\u001b[38;5;132;01m}\u001b[39;00m\u001b[38;5;124m\"\u001b[39m\n\u001b[1;32m   1868\u001b[0m     ) \u001b[38;5;28;01mfrom\u001b[39;00m\u001b[38;5;250m \u001b[39m\u001b[38;5;21;01me\u001b[39;00m\n",
      "\u001b[0;31mRuntimeError\u001b[0m: Failed to import transformers.pipelines because of the following error (look up to see its traceback):\nNo module named '_lzma'"
     ]
    }
   ],
   "source": [
    "from transformers import pipeline\n",
    "import pandas as pd\n",
    "import string\n",
    "from collections import Counter\n",
    "import numpy as np\n",
    "from scipy import stats\n",
    "import textstat"
   ]
  },
  {
   "cell_type": "code",
   "execution_count": 91,
   "id": "6d1cda7a-6fd3-435b-8466-a7686ad4b208",
   "metadata": {},
   "outputs": [
    {
     "data": {
      "text/html": [
       "<div>\n",
       "<style scoped>\n",
       "    .dataframe tbody tr th:only-of-type {\n",
       "        vertical-align: middle;\n",
       "    }\n",
       "\n",
       "    .dataframe tbody tr th {\n",
       "        vertical-align: top;\n",
       "    }\n",
       "\n",
       "    .dataframe thead th {\n",
       "        text-align: right;\n",
       "    }\n",
       "</style>\n",
       "<table border=\"1\" class=\"dataframe\">\n",
       "  <thead>\n",
       "    <tr style=\"text-align: right;\">\n",
       "      <th></th>\n",
       "      <th>Title</th>\n",
       "      <th>Year</th>\n",
       "      <th>Script</th>\n",
       "    </tr>\n",
       "  </thead>\n",
       "  <tbody>\n",
       "    <tr>\n",
       "      <th>0</th>\n",
       "      <td>Ocean's Eleven (2001)</td>\n",
       "      <td>2001</td>\n",
       "      <td>One con under escort.\\n Open gate one.\\n Man w...</td>\n",
       "    </tr>\n",
       "  </tbody>\n",
       "</table>\n",
       "</div>"
      ],
      "text/plain": [
       "                   Title  Year  \\\n",
       "0  Ocean's Eleven (2001)  2001   \n",
       "\n",
       "                                              Script  \n",
       "0  One con under escort.\\n Open gate one.\\n Man w...  "
      ]
     },
     "execution_count": 91,
     "metadata": {},
     "output_type": "execute_result"
    }
   ],
   "source": [
    "csv_file_name = \"../raw_data/springfield_script_oceans_eleven_2001.csv\"\n",
    "df = pd.read_csv(csv_file_name)\n",
    "df"
   ]
  },
  {
   "cell_type": "code",
   "execution_count": 92,
   "id": "3f59d3b7-d593-4701-aa56-969b978d841e",
   "metadata": {},
   "outputs": [],
   "source": [
    "script = df['Script'][0]"
   ]
  },
  {
   "cell_type": "code",
   "execution_count": 93,
   "id": "76459084-e49a-4f44-a639-976849241c11",
   "metadata": {},
   "outputs": [
    {
     "name": "stdout",
     "output_type": "stream",
     "text": [
      "8240\n"
     ]
    }
   ],
   "source": [
    "for punctuation in string.punctuation:\n",
    "    script = script.replace(punctuation, \"\")\n",
    "script_split = script.split(\" \")\n",
    "print(len(script_split))"
   ]
  },
  {
   "cell_type": "code",
   "execution_count": 94,
   "id": "d8ceaef3-7c35-4d5f-9f0d-04d098eaf56a",
   "metadata": {},
   "outputs": [
    {
     "name": "stdout",
     "output_type": "stream",
     "text": [
      "['to', 'break', 'the', 'law', 'again\\n', 'This', 'was', 'your', 'first', 'conviction\\n', 'but', 'youve', 'been', 'implicated\\n', 'in', 'a', 'dozen', 'other', 'schemes\\n', 'and', 'frauds\\n', 'What', 'can', 'you', 'tell', 'us', 'about', 'this\\n', 'As', 'you', 'say', 'maam\\n', 'I', 'was', 'never', 'charged\\n', 'Were', 'trying', 'to', 'find', 'out\\n', 'if', 'there', 'was', 'a', 'reason\\n', 'for', 'committing', 'this', 'crime\\n']\n"
     ]
    }
   ],
   "source": [
    "print(script_split[50:100])"
   ]
  },
  {
   "cell_type": "code",
   "execution_count": 95,
   "id": "ff9f81b5-cc2e-4477-b141-6f3ad275a686",
   "metadata": {},
   "outputs": [
    {
     "data": {
      "text/plain": [
       "7657"
      ]
     },
     "execution_count": 95,
     "metadata": {},
     "output_type": "execute_result"
    }
   ],
   "source": [
    "# any(c.isalpha() for c in string_1)\n",
    "script_words = [word for word in script_split if any(c.isalpha() for c in word)]\n",
    "len(script_words)"
   ]
  },
  {
   "cell_type": "code",
   "execution_count": 96,
   "id": "86a221ba-3863-4630-aec5-d4f4996e4c0a",
   "metadata": {},
   "outputs": [],
   "source": [
    "# for punctuation in string.punctuation:\n",
    "#     text = text.replace(punctuation, '')\n",
    "words_stripped = [word.strip() for word in script_words]\n",
    "words_clean = [word.lower() for word in words_stripped]"
   ]
  },
  {
   "cell_type": "code",
   "execution_count": 97,
   "id": "68e62133-dac4-4cf0-84e7-09acca5a8545",
   "metadata": {},
   "outputs": [],
   "source": [
    "word_counts = Counter(words_clean)"
   ]
  },
  {
   "cell_type": "code",
   "execution_count": 98,
   "id": "507471a9-6e26-4b34-a345-959df549c04a",
   "metadata": {},
   "outputs": [
    {
     "name": "stdout",
     "output_type": "stream",
     "text": [
      "912\n"
     ]
    }
   ],
   "source": [
    "hl = 0\n",
    "for word in word_counts.keys():\n",
    "    if word_counts[word] == 1:\n",
    "        hl += 1\n",
    "print(hl)"
   ]
  },
  {
   "cell_type": "code",
   "execution_count": 99,
   "id": "4a6de61f-696a-4eba-8ea9-ee1fd0c3bf45",
   "metadata": {},
   "outputs": [],
   "source": [
    "def clean_words(script):\n",
    "    '''\n",
    "    Function that takes raw script and cleans it.\n",
    "    Returns list of individual words.\n",
    "    Example: \n",
    "    Input: 'Hello, my... name is!'\n",
    "    Output: ['hello','my','name','is']\n",
    "    '''\n",
    "    # Remove punctuation.\n",
    "    for punctuation in string.punctuation:\n",
    "        script = script.replace(punctuation, \"\")\n",
    "    # Split on whitespace to isolate words\n",
    "    script_split = script.split(\" \")\n",
    "    # Removing \"words\" that are just numbers, i.e. have no letters\n",
    "    script_words = [word for word in script_split if any(c.isalpha() for c in word)]\n",
    "    # Remove new lines, \\n isn't removed by punctuation above.\n",
    "    words_stripped = [word.strip() for word in script_words]\n",
    "    # Lowercase in order to count occurances of same word.\n",
    "    words_clean = [word.lower() for word in words_stripped]\n",
    "    return words_clean"
   ]
  },
  {
   "cell_type": "code",
   "execution_count": 100,
   "id": "9c080599-9a5d-4ad2-ae75-0747a0b49a11",
   "metadata": {},
   "outputs": [],
   "source": [
    "def count_hapax(script):\n",
    "    ''' \n",
    "    Function to count number of hapax legomenon, i.e.\n",
    "    words that appear once in a corpus/text.\n",
    "    '''\n",
    "    \n",
    "    words_clean = clean_words(script)\n",
    "    word_counts = Counter(words_clean)\n",
    "    # Hapax Legomenon counter\n",
    "    hell = 0\n",
    "    for word in word_counts.keys():\n",
    "        if word_counts[word] == 1:\n",
    "            hell += 1\n",
    "    return hell"
   ]
  },
  {
   "cell_type": "code",
   "execution_count": 101,
   "id": "2eb33a8b-fbe4-4fc1-a407-be4902e388f6",
   "metadata": {},
   "outputs": [
    {
     "name": "stdout",
     "output_type": "stream",
     "text": [
      "912\n"
     ]
    }
   ],
   "source": [
    "print(count_hapax(script))"
   ]
  },
  {
   "cell_type": "code",
   "execution_count": 102,
   "id": "be4428c1-8e69-49cc-8ecd-fa50ff5c8295",
   "metadata": {},
   "outputs": [],
   "source": [
    "df_10 = pd.read_csv(\"../raw_data/springfield_10_scripts.csv\")"
   ]
  },
  {
   "cell_type": "code",
   "execution_count": 103,
   "id": "76f3fb83-8d62-4e22-9e9c-69a89625afcb",
   "metadata": {},
   "outputs": [
    {
     "data": {
      "text/plain": [
       "0                        Barbarosa (1982)\n",
       "1                         Chestnut (2023)\n",
       "2                  Contractor, The (2007)\n",
       "3    George Michael: Freedom Uncut (2022)\n",
       "4                Objective, Burma! (1945)\n",
       "5                    Out on a Limb (1992)\n",
       "6                          Piranha (2010)\n",
       "7                            Scoop (2006)\n",
       "8              Secret of the Incas (1954)\n",
       "9        Slumber Party Massacre II (1987)\n",
       "Name: Title, dtype: object"
      ]
     },
     "execution_count": 103,
     "metadata": {},
     "output_type": "execute_result"
    }
   ],
   "source": [
    "df_10['Title']"
   ]
  },
  {
   "cell_type": "code",
   "execution_count": 104,
   "id": "72bbacf3-d664-4dda-aa06-563faa399020",
   "metadata": {},
   "outputs": [
    {
     "name": "stdout",
     "output_type": "stream",
     "text": [
      "482\n",
      "453\n",
      "536\n",
      "1090\n",
      "801\n",
      "634\n",
      "564\n",
      "1047\n",
      "714\n",
      "457\n"
     ]
    }
   ],
   "source": [
    "for scr in df_10['Script']:\n",
    "    print(count_hapax(scr))"
   ]
  },
  {
   "cell_type": "code",
   "execution_count": 105,
   "id": "f7136206-105f-4934-a430-b761c2993b69",
   "metadata": {},
   "outputs": [
    {
     "name": "stdout",
     "output_type": "stream",
     "text": [
      "Title: Aftersun (2022): #Hapax: 365\n",
      "Title: Bourne Identity, The (2002): #Hapax: 724\n",
      "Title: Grown Ups (2010): #Hapax: 919\n",
      "Title: Ocean's Eleven (2001): #Hapax: 912\n",
      "Title: Pulp Fiction (1994): #Hapax: 1119\n",
      "Title: Silence of the Lambs, The (1991): #Hapax: 979\n"
     ]
    }
   ],
   "source": [
    "my_movies = [\"springfield_script_aftersun_2022.csv\",\n",
    "             \"springfield_script_bourne_identity_the_2002.csv\",\n",
    "             \"springfield_script_grown_ups_2010.csv\",\n",
    "             \"springfield_script_oceans_eleven_2001.csv\",\n",
    "             \"springfield_script_pulp_fiction_1994.csv\",\n",
    "             \"springfield_script_silence_of_the_lambs_the_1991.csv\"\n",
    "            ]\n",
    "\n",
    "for filename in my_movies:\n",
    "    df = pd.read_csv(f'../raw_data/{filename}')\n",
    "    script = df['Script'][0]\n",
    "    title = df['Title'][0]\n",
    "    print(f'Title: {title}: #Hapax: {count_hapax(script)}')"
   ]
  },
  {
   "cell_type": "code",
   "execution_count": 119,
   "id": "86aaadd8-6fdf-48d7-9146-8f51e217ce13",
   "metadata": {},
   "outputs": [],
   "source": [
    "def mean_word_length(script):\n",
    "    ''' \n",
    "    Function to find the mean word length in a script.\n",
    "    '''\n",
    "    \n",
    "    words_clean = clean_words(script)\n",
    "    word_lengths = np.array([len(word) for word in words_clean],dtype='int')\n",
    "    return np.mean(word_lengths)"
   ]
  },
  {
   "cell_type": "code",
   "execution_count": 120,
   "id": "113a7d58-470b-4f4f-a744-b649cd8415ce",
   "metadata": {},
   "outputs": [
    {
     "name": "stdout",
     "output_type": "stream",
     "text": [
      "4.134212567882079\n"
     ]
    }
   ],
   "source": [
    "print(mean_word_length(script))"
   ]
  },
  {
   "cell_type": "code",
   "execution_count": 121,
   "id": "dbbd352a-c3e6-4222-a669-8e8a098172ce",
   "metadata": {},
   "outputs": [
    {
     "name": "stdout",
     "output_type": "stream",
     "text": [
      "Title: Aftersun (2022): Mean word length: 3.8761695101816183\n",
      "Title: Bourne Identity, The (2002): Mean word length: 4.11635565312843\n",
      "Title: Grown Ups (2010): Mean word length: 3.891901795529498\n",
      "Title: Ocean's Eleven (2001): Mean word length: 4.023377301815333\n",
      "Title: Pulp Fiction (1994): Mean word length: 3.965002797289737\n",
      "Title: Silence of the Lambs, The (1991): Mean word length: 4.134212567882079\n"
     ]
    }
   ],
   "source": [
    "for filename in my_movies:\n",
    "    df = pd.read_csv(f'../raw_data/{filename}')\n",
    "    script = df['Script'][0]\n",
    "    title = df['Title'][0]\n",
    "    print(f'Title: {title}: Mean word length: {mean_word_length(script)}')"
   ]
  },
  {
   "cell_type": "code",
   "execution_count": 125,
   "id": "7faa3445-ea78-480d-9dd1-b1a496ee50ff",
   "metadata": {},
   "outputs": [],
   "source": [
    "def mode_word_length(script):\n",
    "    ''' \n",
    "    Function to find the mode word length in a script.\n",
    "    '''\n",
    "    \n",
    "    words_clean = clean_words(script)\n",
    "    word_lengths = np.array([len(word) for word in words_clean],dtype='int')\n",
    "    \n",
    "    return stats.mode(word_lengths)[0]"
   ]
  },
  {
   "cell_type": "code",
   "execution_count": 126,
   "id": "d00d7c96-b84b-4026-b8b0-52a8712e0bd6",
   "metadata": {},
   "outputs": [
    {
     "name": "stdout",
     "output_type": "stream",
     "text": [
      "Title: Aftersun (2022): Mode word length: 4\n",
      "Title: Bourne Identity, The (2002): Mode word length: 4\n",
      "Title: Grown Ups (2010): Mode word length: 3\n",
      "Title: Ocean's Eleven (2001): Mode word length: 4\n",
      "Title: Pulp Fiction (1994): Mode word length: 4\n",
      "Title: Silence of the Lambs, The (1991): Mode word length: 4\n"
     ]
    }
   ],
   "source": [
    "for filename in my_movies:\n",
    "    df = pd.read_csv(f'../raw_data/{filename}')\n",
    "    script = df['Script'][0]\n",
    "    title = df['Title'][0]\n",
    "    print(f'Title: {title}: Mode word length: {mode_word_length(script)}')"
   ]
  },
  {
   "cell_type": "code",
   "execution_count": 132,
   "id": "a69b48d9-54f1-4f9f-9994-4f013756bb94",
   "metadata": {},
   "outputs": [],
   "source": [
    "def readability_metrics(script):\n",
    "    '''\n",
    "    Function that calculates the readability of a script.\n",
    "    '''\n",
    "    \n",
    "    # Cleaning is done differently here so that the input to the textstat\n",
    "    # metric functions is correct. Essentially it wants to keep punctuation.\n",
    "    \n",
    "    # Split on whitespace to isolate words\n",
    "    script_split = script.split(\" \")\n",
    "    # Removing \"words\" that are just numbers, i.e. have no letters\n",
    "    script_words = [word for word in script_split if any(c.isalpha() for c in word)]\n",
    "    # Remove new lines\n",
    "    words_stripped = [word.strip() for word in script_words]\n",
    "    words_clean = words_stripped\n",
    "    \n",
    "    text = \" \".join(words_clean)\n",
    "    # Flesch-Kincaid Grade Level - measures US Grade level required to read text.\n",
    "    fkgl = textstat.flesch_kincaid_grade(text)\n",
    "    # Flesch Reading Ease - overall score\n",
    "    fre = textstat.flesch_reading_ease(text)\n",
    "    # SMOG Test - better for jargon/technical text\n",
    "    smog = textstat.smog_index(text)\n",
    "    # Gunning Fog Index - complexity of sentence structure and vocab\n",
    "    fog = textstat.gunning_fog(text)\n",
    "\n",
    "    return (fkgl, fre, smog, fog)"
   ]
  },
  {
   "cell_type": "code",
   "execution_count": 133,
   "id": "f4937894-4cda-4103-ac44-8644ca1ddd4c",
   "metadata": {},
   "outputs": [
    {
     "name": "stdout",
     "output_type": "stream",
     "text": [
      "Title: Aftersun (2022)\n",
      "Flesch-Kincaid Grade Level: 2.4\n",
      "Flesch Reading Ease: 89.95\n",
      "Gunning Fog Index: 3.39\n",
      "SMOG Index: 6.4\n",
      " \n",
      "Title: Bourne Identity, The (2002)\n",
      "Flesch-Kincaid Grade Level: 2.4\n",
      "Flesch Reading Ease: 89.95\n",
      "Gunning Fog Index: 3.85\n",
      "SMOG Index: 6.7\n",
      " \n",
      "Title: Grown Ups (2010)\n",
      "Flesch-Kincaid Grade Level: 2.2\n",
      "Flesch Reading Ease: 90.46\n",
      "Gunning Fog Index: 3.46\n",
      "SMOG Index: 6.3\n",
      " \n",
      "Title: Ocean's Eleven (2001)\n",
      "Flesch-Kincaid Grade Level: 2.2\n",
      "Flesch Reading Ease: 90.36\n",
      "Gunning Fog Index: 3.75\n",
      "SMOG Index: 6.6\n",
      " \n",
      "Title: Pulp Fiction (1994)\n",
      "Flesch-Kincaid Grade Level: 2.8\n",
      "Flesch Reading Ease: 88.94\n",
      "Gunning Fog Index: 3.89\n",
      "SMOG Index: 6.5\n",
      " \n",
      "Title: Silence of the Lambs, The (1991)\n",
      "Flesch-Kincaid Grade Level: 2.6\n",
      "Flesch Reading Ease: 89.34\n",
      "Gunning Fog Index: 4.28\n",
      "SMOG Index: 7.1\n",
      " \n"
     ]
    }
   ],
   "source": [
    "for filename in my_movies:\n",
    "    df = pd.read_csv(f'../raw_data/{filename}')\n",
    "    script = df['Script'][0]\n",
    "    title = df['Title'][0]\n",
    "\n",
    "    (fkgl, fre, smog, fog) = readability_metrics(script)\n",
    "    print(f'Title: {title}')\n",
    "    print(f\"Flesch-Kincaid Grade Level: {fkgl}\")\n",
    "    print(f\"Flesch Reading Ease: {fre}\")\n",
    "    print(f\"Gunning Fog Index: {fog}\")\n",
    "    print(f\"SMOG Index: {smog}\")\n",
    "    print(\" \")"
   ]
  },
  {
   "cell_type": "code",
   "execution_count": 143,
   "id": "83e44087-783b-4d40-89ba-4ecd438d7b55",
   "metadata": {},
   "outputs": [],
   "source": [
    "def vocab_size(script):\n",
    "    ''' \n",
    "    Function to count number of unique words.\n",
    "    '''\n",
    "    \n",
    "    words_clean = clean_words(script)\n",
    "    word_counts = Counter(words_clean)\n",
    "    \n",
    "    return len(word_counts)\n",
    "\n",
    "def type_token_ratio(script):\n",
    "    ''' \n",
    "    Function to calculate the type token ratio.\n",
    "    TTR = (# unique words)/(total # words)\n",
    "    '''\n",
    "    \n",
    "    words_clean = clean_words(script)\n",
    "    word_counts = Counter(words_clean)\n",
    "    \n",
    "    return len(word_counts)/len(words_clean)\n",
    "\n",
    "def script_length(script):\n",
    "    ''' \n",
    "    Function to calculate the script length.\n",
    "    '''\n",
    "    \n",
    "    words_clean = clean_words(script)\n",
    "    \n",
    "    return len(words_clean)"
   ]
  },
  {
   "cell_type": "code",
   "execution_count": 147,
   "id": "8bb417f3-90ac-41d1-9b0b-446e92cd878c",
   "metadata": {},
   "outputs": [
    {
     "name": "stdout",
     "output_type": "stream",
     "text": [
      "Title: Aftersun (2022)\n",
      "    script length: 3634\n",
      "    vocab_size: 764\n",
      "    TTR: 0.21\n",
      "    iTTR: 3634.0\n",
      "    \n",
      "Title: Bourne Identity, The (2002)\n",
      "    script length: 7288\n",
      "    vocab_size: 1343\n",
      "    TTR: 0.18\n",
      "    iTTR: 7288.0\n",
      "    \n",
      "Title: Grown Ups (2010)\n",
      "    script length: 8187\n",
      "    vocab_size: 1624\n",
      "    TTR: 0.2\n",
      "    iTTR: 8187.0\n",
      "    \n",
      "Title: Ocean's Eleven (2001)\n",
      "    script length: 7657\n",
      "    vocab_size: 1628\n",
      "    TTR: 0.21\n",
      "    iTTR: 7657.0\n",
      "    \n",
      "Title: Pulp Fiction (1994)\n",
      "    script length: 16087\n",
      "    vocab_size: 2294\n",
      "    TTR: 0.14\n",
      "    iTTR: 16087.0\n",
      "    \n",
      "Title: Silence of the Lambs, The (1991)\n",
      "    script length: 7734\n",
      "    vocab_size: 1712\n",
      "    TTR: 0.22\n",
      "    iTTR: 7734.0\n",
      "    \n"
     ]
    }
   ],
   "source": [
    "for filename in my_movies:\n",
    "    df = pd.read_csv(f'../raw_data/{filename}')\n",
    "    script = df['Script'][0]\n",
    "    title = df['Title'][0]\n",
    "\n",
    "    pstr = f'''Title: {title}\n",
    "    script length: {script_length(script)}\n",
    "    vocab_size: {round(vocab_size(script),2)}\n",
    "    TTR: {round(type_token_ratio(script),2)}\n",
    "    iTTR: {round(vocab_size(script)/type_token_ratio(script),2)}\n",
    "    '''\n",
    "    print(pstr)"
   ]
  }
 ],
 "metadata": {
  "kernelspec": {
   "display_name": "Python 3 (ipykernel)",
   "language": "python",
   "name": "python3"
  },
  "language_info": {
   "codemirror_mode": {
    "name": "ipython",
    "version": 3
   },
   "file_extension": ".py",
   "mimetype": "text/x-python",
   "name": "python",
   "nbconvert_exporter": "python",
   "pygments_lexer": "ipython3",
   "version": "3.10.6"
  },
  "toc": {
   "base_numbering": 1,
   "nav_menu": {},
   "number_sections": true,
   "sideBar": true,
   "skip_h1_title": false,
   "title_cell": "Table of Contents",
   "title_sidebar": "Contents",
   "toc_cell": false,
   "toc_position": {},
   "toc_section_display": true,
   "toc_window_display": false
  }
 },
 "nbformat": 4,
 "nbformat_minor": 5
}
