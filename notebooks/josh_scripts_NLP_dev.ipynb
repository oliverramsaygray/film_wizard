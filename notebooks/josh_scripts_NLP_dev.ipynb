{
 "cells": [
  {
   "cell_type": "code",
   "execution_count": 127,
   "id": "2436774d-7df6-402b-855d-4fc3614b0c8e",
   "metadata": {},
   "outputs": [],
   "source": [
    "from transformers import pipeline\n",
    "import pandas as pd\n",
    "import string\n",
    "from collections import Counter\n",
    "import numpy as np\n",
    "from scipy import stats\n",
    "import textstat"
   ]
  },
  {
   "cell_type": "code",
   "execution_count": 91,
   "id": "6d1cda7a-6fd3-435b-8466-a7686ad4b208",
   "metadata": {},
   "outputs": [
    {
     "data": {
      "text/html": [
       "<div>\n",
       "<style scoped>\n",
       "    .dataframe tbody tr th:only-of-type {\n",
       "        vertical-align: middle;\n",
       "    }\n",
       "\n",
       "    .dataframe tbody tr th {\n",
       "        vertical-align: top;\n",
       "    }\n",
       "\n",
       "    .dataframe thead th {\n",
       "        text-align: right;\n",
       "    }\n",
       "</style>\n",
       "<table border=\"1\" class=\"dataframe\">\n",
       "  <thead>\n",
       "    <tr style=\"text-align: right;\">\n",
       "      <th></th>\n",
       "      <th>Title</th>\n",
       "      <th>Year</th>\n",
       "      <th>Script</th>\n",
       "    </tr>\n",
       "  </thead>\n",
       "  <tbody>\n",
       "    <tr>\n",
       "      <th>0</th>\n",
       "      <td>Ocean's Eleven (2001)</td>\n",
       "      <td>2001</td>\n",
       "      <td>One con under escort.\\n Open gate one.\\n Man w...</td>\n",
       "    </tr>\n",
       "  </tbody>\n",
       "</table>\n",
       "</div>"
      ],
      "text/plain": [
       "                   Title  Year  \\\n",
       "0  Ocean's Eleven (2001)  2001   \n",
       "\n",
       "                                              Script  \n",
       "0  One con under escort.\\n Open gate one.\\n Man w...  "
      ]
     },
     "execution_count": 91,
     "metadata": {},
     "output_type": "execute_result"
    }
   ],
   "source": [
    "csv_file_name = \"../raw_data/springfield_script_oceans_eleven_2001.csv\"\n",
    "df = pd.read_csv(csv_file_name)\n",
    "df"
   ]
  },
  {
   "cell_type": "code",
   "execution_count": 92,
   "id": "3f59d3b7-d593-4701-aa56-969b978d841e",
   "metadata": {},
   "outputs": [],
   "source": [
    "script = df['Script'][0]"
   ]
  },
  {
   "cell_type": "code",
   "execution_count": 93,
   "id": "76459084-e49a-4f44-a639-976849241c11",
   "metadata": {},
   "outputs": [
    {
     "name": "stdout",
     "output_type": "stream",
     "text": [
      "8240\n"
     ]
    }
   ],
   "source": [
    "for punctuation in string.punctuation:\n",
    "    script = script.replace(punctuation, \"\")\n",
    "script_split = script.split(\" \")\n",
    "print(len(script_split))"
   ]
  },
  {
   "cell_type": "code",
   "execution_count": 94,
   "id": "d8ceaef3-7c35-4d5f-9f0d-04d098eaf56a",
   "metadata": {},
   "outputs": [
    {
     "name": "stdout",
     "output_type": "stream",
     "text": [
      "['to', 'break', 'the', 'law', 'again\\n', 'This', 'was', 'your', 'first', 'conviction\\n', 'but', 'youve', 'been', 'implicated\\n', 'in', 'a', 'dozen', 'other', 'schemes\\n', 'and', 'frauds\\n', 'What', 'can', 'you', 'tell', 'us', 'about', 'this\\n', 'As', 'you', 'say', 'maam\\n', 'I', 'was', 'never', 'charged\\n', 'Were', 'trying', 'to', 'find', 'out\\n', 'if', 'there', 'was', 'a', 'reason\\n', 'for', 'committing', 'this', 'crime\\n']\n"
     ]
    }
   ],
   "source": [
    "print(script_split[50:100])"
   ]
  },
  {
   "cell_type": "code",
   "execution_count": 95,
   "id": "ff9f81b5-cc2e-4477-b141-6f3ad275a686",
   "metadata": {},
   "outputs": [
    {
     "data": {
      "text/plain": [
       "7657"
      ]
     },
     "execution_count": 95,
     "metadata": {},
     "output_type": "execute_result"
    }
   ],
   "source": [
    "# any(c.isalpha() for c in string_1)\n",
    "script_words = [word for word in script_split if any(c.isalpha() for c in word)]\n",
    "len(script_words)"
   ]
  },
  {
   "cell_type": "code",
   "execution_count": 96,
   "id": "86a221ba-3863-4630-aec5-d4f4996e4c0a",
   "metadata": {},
   "outputs": [],
   "source": [
    "# for punctuation in string.punctuation:\n",
    "#     text = text.replace(punctuation, '')\n",
    "words_stripped = [word.strip() for word in script_words]\n",
    "words_clean = [word.lower() for word in words_stripped]"
   ]
  },
  {
   "cell_type": "code",
   "execution_count": 97,
   "id": "68e62133-dac4-4cf0-84e7-09acca5a8545",
   "metadata": {},
   "outputs": [],
   "source": [
    "word_counts = Counter(words_clean)"
   ]
  },
  {
   "cell_type": "code",
   "execution_count": 98,
   "id": "507471a9-6e26-4b34-a345-959df549c04a",
   "metadata": {},
   "outputs": [
    {
     "name": "stdout",
     "output_type": "stream",
     "text": [
      "912\n"
     ]
    }
   ],
   "source": [
    "hl = 0\n",
    "for word in word_counts.keys():\n",
    "    if word_counts[word] == 1:\n",
    "        hl += 1\n",
    "print(hl)"
   ]
  },
  {
   "cell_type": "code",
   "execution_count": 99,
   "id": "4a6de61f-696a-4eba-8ea9-ee1fd0c3bf45",
   "metadata": {},
   "outputs": [],
   "source": [
    "def clean_words(script):\n",
    "    '''\n",
    "    Function that takes raw script and cleans it.\n",
    "    Returns list of individual words.\n",
    "    Example: \n",
    "    Input: 'Hello, my... name is!'\n",
    "    Output: ['hello','my','name','is']\n",
    "    '''\n",
    "    # Remove punctuation.\n",
    "    for punctuation in string.punctuation:\n",
    "        script = script.replace(punctuation, \"\")\n",
    "    # Split on whitespace to isolate words\n",
    "    script_split = script.split(\" \")\n",
    "    # Removing \"words\" that are just numbers, i.e. have no letters\n",
    "    script_words = [word for word in script_split if any(c.isalpha() for c in word)]\n",
    "    # Remove new lines, \\n isn't removed by punctuation above.\n",
    "    words_stripped = [word.strip() for word in script_words]\n",
    "    # Lowercase in order to count occurances of same word.\n",
    "    words_clean = [word.lower() for word in words_stripped]\n",
    "    return words_clean"
   ]
  },
  {
   "cell_type": "code",
   "execution_count": 100,
   "id": "9c080599-9a5d-4ad2-ae75-0747a0b49a11",
   "metadata": {},
   "outputs": [],
   "source": [
    "def count_hapax(script):\n",
    "    ''' \n",
    "    Function to count number of hapax legomenon, i.e.\n",
    "    words that appear once in a corpus/text.\n",
    "    '''\n",
    "    \n",
    "    words_clean = clean_words(script)\n",
    "    word_counts = Counter(words_clean)\n",
    "    # Hapax Legomenon counter\n",
    "    hell = 0\n",
    "    for word in word_counts.keys():\n",
    "        if word_counts[word] == 1:\n",
    "            hell += 1\n",
    "    return hell"
   ]
  },
  {
   "cell_type": "code",
   "execution_count": 101,
   "id": "2eb33a8b-fbe4-4fc1-a407-be4902e388f6",
   "metadata": {},
   "outputs": [
    {
     "name": "stdout",
     "output_type": "stream",
     "text": [
      "912\n"
     ]
    }
   ],
   "source": [
    "print(count_hapax(script))"
   ]
  },
  {
   "cell_type": "code",
   "execution_count": 102,
   "id": "be4428c1-8e69-49cc-8ecd-fa50ff5c8295",
   "metadata": {},
   "outputs": [],
   "source": [
    "df_10 = pd.read_csv(\"../raw_data/springfield_10_scripts.csv\")"
   ]
  },
  {
   "cell_type": "code",
   "execution_count": 103,
   "id": "76f3fb83-8d62-4e22-9e9c-69a89625afcb",
   "metadata": {},
   "outputs": [
    {
     "data": {
      "text/plain": [
       "0                        Barbarosa (1982)\n",
       "1                         Chestnut (2023)\n",
       "2                  Contractor, The (2007)\n",
       "3    George Michael: Freedom Uncut (2022)\n",
       "4                Objective, Burma! (1945)\n",
       "5                    Out on a Limb (1992)\n",
       "6                          Piranha (2010)\n",
       "7                            Scoop (2006)\n",
       "8              Secret of the Incas (1954)\n",
       "9        Slumber Party Massacre II (1987)\n",
       "Name: Title, dtype: object"
      ]
     },
     "execution_count": 103,
     "metadata": {},
     "output_type": "execute_result"
    }
   ],
   "source": [
    "df_10['Title']"
   ]
  },
  {
   "cell_type": "code",
   "execution_count": 104,
   "id": "72bbacf3-d664-4dda-aa06-563faa399020",
   "metadata": {},
   "outputs": [
    {
     "name": "stdout",
     "output_type": "stream",
     "text": [
      "482\n",
      "453\n",
      "536\n",
      "1090\n",
      "801\n",
      "634\n",
      "564\n",
      "1047\n",
      "714\n",
      "457\n"
     ]
    }
   ],
   "source": [
    "for scr in df_10['Script']:\n",
    "    print(count_hapax(scr))"
   ]
  },
  {
   "cell_type": "code",
   "execution_count": 105,
   "id": "f7136206-105f-4934-a430-b761c2993b69",
   "metadata": {},
   "outputs": [
    {
     "name": "stdout",
     "output_type": "stream",
     "text": [
      "Title: Aftersun (2022): #Hapax: 365\n",
      "Title: Bourne Identity, The (2002): #Hapax: 724\n",
      "Title: Grown Ups (2010): #Hapax: 919\n",
      "Title: Ocean's Eleven (2001): #Hapax: 912\n",
      "Title: Pulp Fiction (1994): #Hapax: 1119\n",
      "Title: Silence of the Lambs, The (1991): #Hapax: 979\n"
     ]
    }
   ],
   "source": [
    "my_movies = [\"springfield_script_aftersun_2022.csv\",\n",
    "             \"springfield_script_bourne_identity_the_2002.csv\",\n",
    "             \"springfield_script_grown_ups_2010.csv\",\n",
    "             \"springfield_script_oceans_eleven_2001.csv\",\n",
    "             \"springfield_script_pulp_fiction_1994.csv\",\n",
    "             \"springfield_script_silence_of_the_lambs_the_1991.csv\"\n",
    "            ]\n",
    "\n",
    "for filename in my_movies:\n",
    "    df = pd.read_csv(f'../raw_data/{filename}')\n",
    "    script = df['Script'][0]\n",
    "    title = df['Title'][0]\n",
    "    print(f'Title: {title}: #Hapax: {count_hapax(script)}')"
   ]
  },
  {
   "cell_type": "code",
   "execution_count": 119,
   "id": "86aaadd8-6fdf-48d7-9146-8f51e217ce13",
   "metadata": {},
   "outputs": [],
   "source": [
    "def mean_word_length(script):\n",
    "    ''' \n",
    "    Function to find the mean word length in a script.\n",
    "    '''\n",
    "    \n",
    "    words_clean = clean_words(script)\n",
    "    word_lengths = np.array([len(word) for word in words_clean],dtype='int')\n",
    "    return np.mean(word_lengths)"
   ]
  },
  {
   "cell_type": "code",
   "execution_count": 120,
   "id": "113a7d58-470b-4f4f-a744-b649cd8415ce",
   "metadata": {},
   "outputs": [
    {
     "name": "stdout",
     "output_type": "stream",
     "text": [
      "4.134212567882079\n"
     ]
    }
   ],
   "source": [
    "print(mean_word_length(script))"
   ]
  },
  {
   "cell_type": "code",
   "execution_count": 121,
   "id": "dbbd352a-c3e6-4222-a669-8e8a098172ce",
   "metadata": {},
   "outputs": [
    {
     "name": "stdout",
     "output_type": "stream",
     "text": [
      "Title: Aftersun (2022): Mean word length: 3.8761695101816183\n",
      "Title: Bourne Identity, The (2002): Mean word length: 4.11635565312843\n",
      "Title: Grown Ups (2010): Mean word length: 3.891901795529498\n",
      "Title: Ocean's Eleven (2001): Mean word length: 4.023377301815333\n",
      "Title: Pulp Fiction (1994): Mean word length: 3.965002797289737\n",
      "Title: Silence of the Lambs, The (1991): Mean word length: 4.134212567882079\n"
     ]
    }
   ],
   "source": [
    "for filename in my_movies:\n",
    "    df = pd.read_csv(f'../raw_data/{filename}')\n",
    "    script = df['Script'][0]\n",
    "    title = df['Title'][0]\n",
    "    print(f'Title: {title}: Mean word length: {mean_word_length(script)}')"
   ]
  },
  {
   "cell_type": "code",
   "execution_count": 125,
   "id": "7faa3445-ea78-480d-9dd1-b1a496ee50ff",
   "metadata": {},
   "outputs": [],
   "source": [
    "def mode_word_length(script):\n",
    "    ''' \n",
    "    Function to find the mode word length in a script.\n",
    "    '''\n",
    "    \n",
    "    words_clean = clean_words(script)\n",
    "    word_lengths = np.array([len(word) for word in words_clean],dtype='int')\n",
    "    \n",
    "    return stats.mode(word_lengths)[0]"
   ]
  },
  {
   "cell_type": "code",
   "execution_count": 126,
   "id": "d00d7c96-b84b-4026-b8b0-52a8712e0bd6",
   "metadata": {},
   "outputs": [
    {
     "name": "stdout",
     "output_type": "stream",
     "text": [
      "Title: Aftersun (2022): Mode word length: 4\n",
      "Title: Bourne Identity, The (2002): Mode word length: 4\n",
      "Title: Grown Ups (2010): Mode word length: 3\n",
      "Title: Ocean's Eleven (2001): Mode word length: 4\n",
      "Title: Pulp Fiction (1994): Mode word length: 4\n",
      "Title: Silence of the Lambs, The (1991): Mode word length: 4\n"
     ]
    }
   ],
   "source": [
    "for filename in my_movies:\n",
    "    df = pd.read_csv(f'../raw_data/{filename}')\n",
    "    script = df['Script'][0]\n",
    "    title = df['Title'][0]\n",
    "    print(f'Title: {title}: Mode word length: {mode_word_length(script)}')"
   ]
  },
  {
   "cell_type": "code",
   "execution_count": 132,
   "id": "a69b48d9-54f1-4f9f-9994-4f013756bb94",
   "metadata": {},
   "outputs": [],
   "source": [
    "def readability_metrics(script):\n",
    "    '''\n",
    "    Function that calculates the readability of a script.\n",
    "    '''\n",
    "    \n",
    "    # Cleaning is done differently here so that the input to the textstat\n",
    "    # metric functions is correct. Essentially it wants to keep punctuation.\n",
    "    \n",
    "    # Split on whitespace to isolate words\n",
    "    script_split = script.split(\" \")\n",
    "    # Removing \"words\" that are just numbers, i.e. have no letters\n",
    "    script_words = [word for word in script_split if any(c.isalpha() for c in word)]\n",
    "    # Remove new lines\n",
    "    words_stripped = [word.strip() for word in script_words]\n",
    "    words_clean = words_stripped\n",
    "    \n",
    "    text = \" \".join(words_clean)\n",
    "    # Flesch-Kincaid Grade Level - measures US Grade level required to read text.\n",
    "    fkgl = textstat.flesch_kincaid_grade(text)\n",
    "    # Flesch Reading Ease - overall score\n",
    "    fre = textstat.flesch_reading_ease(text)\n",
    "    # SMOG Test - better for jargon/technical text\n",
    "    smog = textstat.smog_index(text)\n",
    "    # Gunning Fog Index - complexity of sentence structure and vocab\n",
    "    fog = textstat.gunning_fog(text)\n",
    "\n",
    "    return (fkgl, fre, smog, fog)"
   ]
  },
  {
   "cell_type": "code",
   "execution_count": 133,
   "id": "f4937894-4cda-4103-ac44-8644ca1ddd4c",
   "metadata": {},
   "outputs": [
    {
     "name": "stdout",
     "output_type": "stream",
     "text": [
      "Title: Aftersun (2022)\n",
      "Flesch-Kincaid Grade Level: 2.4\n",
      "Flesch Reading Ease: 89.95\n",
      "Gunning Fog Index: 3.39\n",
      "SMOG Index: 6.4\n",
      " \n",
      "Title: Bourne Identity, The (2002)\n",
      "Flesch-Kincaid Grade Level: 2.4\n",
      "Flesch Reading Ease: 89.95\n",
      "Gunning Fog Index: 3.85\n",
      "SMOG Index: 6.7\n",
      " \n",
      "Title: Grown Ups (2010)\n",
      "Flesch-Kincaid Grade Level: 2.2\n",
      "Flesch Reading Ease: 90.46\n",
      "Gunning Fog Index: 3.46\n",
      "SMOG Index: 6.3\n",
      " \n",
      "Title: Ocean's Eleven (2001)\n",
      "Flesch-Kincaid Grade Level: 2.2\n",
      "Flesch Reading Ease: 90.36\n",
      "Gunning Fog Index: 3.75\n",
      "SMOG Index: 6.6\n",
      " \n",
      "Title: Pulp Fiction (1994)\n",
      "Flesch-Kincaid Grade Level: 2.8\n",
      "Flesch Reading Ease: 88.94\n",
      "Gunning Fog Index: 3.89\n",
      "SMOG Index: 6.5\n",
      " \n",
      "Title: Silence of the Lambs, The (1991)\n",
      "Flesch-Kincaid Grade Level: 2.6\n",
      "Flesch Reading Ease: 89.34\n",
      "Gunning Fog Index: 4.28\n",
      "SMOG Index: 7.1\n",
      " \n"
     ]
    }
   ],
   "source": [
    "for filename in my_movies:\n",
    "    df = pd.read_csv(f'../raw_data/{filename}')\n",
    "    script = df['Script'][0]\n",
    "    title = df['Title'][0]\n",
    "\n",
    "    (fkgl, fre, smog, fog) = readability_metrics(script)\n",
    "    print(f'Title: {title}')\n",
    "    print(f\"Flesch-Kincaid Grade Level: {fkgl}\")\n",
    "    print(f\"Flesch Reading Ease: {fre}\")\n",
    "    print(f\"Gunning Fog Index: {fog}\")\n",
    "    print(f\"SMOG Index: {smog}\")\n",
    "    print(\" \")"
   ]
  }
 ],
 "metadata": {
  "kernelspec": {
   "display_name": "Python 3 (ipykernel)",
   "language": "python",
   "name": "python3"
  },
  "language_info": {
   "codemirror_mode": {
    "name": "ipython",
    "version": 3
   },
   "file_extension": ".py",
   "mimetype": "text/x-python",
   "name": "python",
   "nbconvert_exporter": "python",
   "pygments_lexer": "ipython3",
   "version": "3.10.6"
  }
 },
 "nbformat": 4,
 "nbformat_minor": 5
}
