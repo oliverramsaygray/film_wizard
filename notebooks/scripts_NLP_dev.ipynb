{
 "cells": [
  {
   "cell_type": "code",
   "execution_count": 1,
   "id": "2436774d-7df6-402b-855d-4fc3614b0c8e",
   "metadata": {},
   "outputs": [
    {
     "name": "stderr",
     "output_type": "stream",
     "text": [
      "2025-03-11 17:50:09.674855: I external/local_xla/xla/tsl/cuda/cudart_stub.cc:32] Could not find cuda drivers on your machine, GPU will not be used.\n",
      "2025-03-11 17:50:09.677055: I external/local_xla/xla/tsl/cuda/cudart_stub.cc:32] Could not find cuda drivers on your machine, GPU will not be used.\n",
      "2025-03-11 17:50:09.683745: E external/local_xla/xla/stream_executor/cuda/cuda_fft.cc:477] Unable to register cuFFT factory: Attempting to register factory for plugin cuFFT when one has already been registered\n",
      "WARNING: All log messages before absl::InitializeLog() is called are written to STDERR\n",
      "E0000 00:00:1741715409.695150  433633 cuda_dnn.cc:8310] Unable to register cuDNN factory: Attempting to register factory for plugin cuDNN when one has already been registered\n",
      "E0000 00:00:1741715409.698568  433633 cuda_blas.cc:1418] Unable to register cuBLAS factory: Attempting to register factory for plugin cuBLAS when one has already been registered\n",
      "2025-03-11 17:50:09.710463: I tensorflow/core/platform/cpu_feature_guard.cc:210] This TensorFlow binary is optimized to use available CPU instructions in performance-critical operations.\n",
      "To enable the following instructions: AVX2 FMA, in other operations, rebuild TensorFlow with the appropriate compiler flags.\n"
     ]
    }
   ],
   "source": [
    "from transformers import pipeline\n",
    "import pandas as pd"
   ]
  },
  {
   "cell_type": "code",
   "execution_count": 2,
   "id": "6d1cda7a-6fd3-435b-8466-a7686ad4b208",
   "metadata": {},
   "outputs": [
    {
     "data": {
      "text/html": [
       "<div>\n",
       "<style scoped>\n",
       "    .dataframe tbody tr th:only-of-type {\n",
       "        vertical-align: middle;\n",
       "    }\n",
       "\n",
       "    .dataframe tbody tr th {\n",
       "        vertical-align: top;\n",
       "    }\n",
       "\n",
       "    .dataframe thead th {\n",
       "        text-align: right;\n",
       "    }\n",
       "</style>\n",
       "<table border=\"1\" class=\"dataframe\">\n",
       "  <thead>\n",
       "    <tr style=\"text-align: right;\">\n",
       "      <th></th>\n",
       "      <th>Title</th>\n",
       "      <th>Year</th>\n",
       "      <th>Script</th>\n",
       "    </tr>\n",
       "  </thead>\n",
       "  <tbody>\n",
       "    <tr>\n",
       "      <th>0</th>\n",
       "      <td>Barbarosa (1982)</td>\n",
       "      <td>1982</td>\n",
       "      <td>DAMN, WHERE ARE WE?\\n WHEW, WE GOTTA FIND SOME...</td>\n",
       "    </tr>\n",
       "    <tr>\n",
       "      <th>1</th>\n",
       "      <td>Chestnut (2023)</td>\n",
       "      <td>2023</td>\n",
       "      <td>1\\n [ Birds chirping in distance ]\\n [ Phone r...</td>\n",
       "    </tr>\n",
       "    <tr>\n",
       "      <th>2</th>\n",
       "      <td>Contractor, The (2007)</td>\n",
       "      <td>2007</td>\n",
       "      <td>Ah, James.\\n Ali Mahmud Jahar.\\n Remember him?...</td>\n",
       "    </tr>\n",
       "    <tr>\n",
       "      <th>3</th>\n",
       "      <td>George Michael: Freedom Uncut (2022)</td>\n",
       "      <td>2022</td>\n",
       "      <td>On Christmas Day, 2016,\\n we heard with shock\\...</td>\n",
       "    </tr>\n",
       "    <tr>\n",
       "      <th>4</th>\n",
       "      <td>Objective, Burma! (1945)</td>\n",
       "      <td>1945</td>\n",
       "      <td>This is Burma...\\n the toughest battleground i...</td>\n",
       "    </tr>\n",
       "    <tr>\n",
       "      <th>5</th>\n",
       "      <td>Out on a Limb (1992)</td>\n",
       "      <td>1992</td>\n",
       "      <td>MISS CLAYTON: Okay,\\n find a seat. Sit down, p...</td>\n",
       "    </tr>\n",
       "    <tr>\n",
       "      <th>6</th>\n",
       "      <td>Piranha (2010)</td>\n",
       "      <td>2010</td>\n",
       "      <td>Oh... boy...\\n That's a fast fish.\\n C'mon... ...</td>\n",
       "    </tr>\n",
       "    <tr>\n",
       "      <th>7</th>\n",
       "      <td>Scoop (2006)</td>\n",
       "      <td>2006</td>\n",
       "      <td>Don't mourn for Joe Strombel.\\n Joe Strombel l...</td>\n",
       "    </tr>\n",
       "    <tr>\n",
       "      <th>8</th>\n",
       "      <td>Secret of the Incas (1954)</td>\n",
       "      <td>1954</td>\n",
       "      <td>1\\n (dramatic music)\\n (flute music)\\n (singer...</td>\n",
       "    </tr>\n",
       "    <tr>\n",
       "      <th>9</th>\n",
       "      <td>Slumber Party Massacre II (1987)</td>\n",
       "      <td>1987</td>\n",
       "      <td>Dr. Weiss says\\n that it's perfectly normal\\n ...</td>\n",
       "    </tr>\n",
       "  </tbody>\n",
       "</table>\n",
       "</div>"
      ],
      "text/plain": [
       "                                  Title  Year  \\\n",
       "0                      Barbarosa (1982)  1982   \n",
       "1                       Chestnut (2023)  2023   \n",
       "2                Contractor, The (2007)  2007   \n",
       "3  George Michael: Freedom Uncut (2022)  2022   \n",
       "4              Objective, Burma! (1945)  1945   \n",
       "5                  Out on a Limb (1992)  1992   \n",
       "6                        Piranha (2010)  2010   \n",
       "7                          Scoop (2006)  2006   \n",
       "8            Secret of the Incas (1954)  1954   \n",
       "9      Slumber Party Massacre II (1987)  1987   \n",
       "\n",
       "                                              Script  \n",
       "0  DAMN, WHERE ARE WE?\\n WHEW, WE GOTTA FIND SOME...  \n",
       "1  1\\n [ Birds chirping in distance ]\\n [ Phone r...  \n",
       "2  Ah, James.\\n Ali Mahmud Jahar.\\n Remember him?...  \n",
       "3  On Christmas Day, 2016,\\n we heard with shock\\...  \n",
       "4  This is Burma...\\n the toughest battleground i...  \n",
       "5  MISS CLAYTON: Okay,\\n find a seat. Sit down, p...  \n",
       "6  Oh... boy...\\n That's a fast fish.\\n C'mon... ...  \n",
       "7  Don't mourn for Joe Strombel.\\n Joe Strombel l...  \n",
       "8  1\\n (dramatic music)\\n (flute music)\\n (singer...  \n",
       "9  Dr. Weiss says\\n that it's perfectly normal\\n ...  "
      ]
     },
     "execution_count": 2,
     "metadata": {},
     "output_type": "execute_result"
    }
   ],
   "source": [
    "csv_file_name = \"../raw_data/springfield_10_scripts.csv\"\n",
    "df = pd.read_csv(csv_file_name)\n",
    "df"
   ]
  },
  {
   "cell_type": "code",
   "execution_count": 3,
   "id": "54987d2d-1a3d-4345-88d1-6219235b81d5",
   "metadata": {},
   "outputs": [
    {
     "data": {
      "application/vnd.jupyter.widget-view+json": {
       "model_id": "2376e7ec374047dfa7365beb10e391b8",
       "version_major": 2,
       "version_minor": 0
      },
      "text/plain": [
       "tf_model.h5:   0%|          | 0.00/501M [00:00<?, ?B/s]"
      ]
     },
     "metadata": {},
     "output_type": "display_data"
    },
    {
     "name": "stderr",
     "output_type": "stream",
     "text": [
      "W0000 00:00:1741715440.369389  433633 gpu_device.cc:2344] Cannot dlopen some GPU libraries. Please make sure the missing libraries mentioned above are installed properly if you would like to use GPU. Follow the guide at https://www.tensorflow.org/install/gpu for how to download and setup the required libraries for your platform.\n",
      "Skipping registering GPU devices...\n",
      "All model checkpoint layers were used when initializing TFRobertaForSequenceClassification.\n",
      "\n",
      "All the layers of TFRobertaForSequenceClassification were initialized from the model checkpoint at cardiffnlp/twitter-roberta-base-sentiment.\n",
      "If your task is similar to the task the model of the checkpoint was trained on, you can already use TFRobertaForSequenceClassification for predictions without further training.\n"
     ]
    },
    {
     "data": {
      "application/vnd.jupyter.widget-view+json": {
       "model_id": "b5abdfb08c4e44d8823851e2b6e3e33d",
       "version_major": 2,
       "version_minor": 0
      },
      "text/plain": [
       "vocab.json:   0%|          | 0.00/899k [00:00<?, ?B/s]"
      ]
     },
     "metadata": {},
     "output_type": "display_data"
    },
    {
     "data": {
      "application/vnd.jupyter.widget-view+json": {
       "model_id": "4fb3f7973ec941bd8af64510194d66c4",
       "version_major": 2,
       "version_minor": 0
      },
      "text/plain": [
       "merges.txt:   0%|          | 0.00/456k [00:00<?, ?B/s]"
      ]
     },
     "metadata": {},
     "output_type": "display_data"
    },
    {
     "data": {
      "application/vnd.jupyter.widget-view+json": {
       "model_id": "b9371ce9ca9443219ffd687f69d629e9",
       "version_major": 2,
       "version_minor": 0
      },
      "text/plain": [
       "special_tokens_map.json:   0%|          | 0.00/150 [00:00<?, ?B/s]"
      ]
     },
     "metadata": {},
     "output_type": "display_data"
    },
    {
     "name": "stderr",
     "output_type": "stream",
     "text": [
      "Device set to use 0\n"
     ]
    }
   ],
   "source": [
    "sentiment_pipe = pipeline('sentiment-analysis', model='cardiffnlp/twitter-roberta-base-sentiment')"
   ]
  },
  {
   "cell_type": "code",
   "execution_count": 4,
   "id": "e7b19a1c-a200-48bf-98c2-0d9e822ea10b",
   "metadata": {},
   "outputs": [],
   "source": [
    "george = df['Script'][3]"
   ]
  },
  {
   "cell_type": "code",
   "execution_count": 5,
   "id": "8a7442da-5f3a-49c0-aa9e-fa6b0004c79d",
   "metadata": {},
   "outputs": [],
   "source": [
    "def chunk_classifier(script):\n",
    "  humor_list = []\n",
    "  for i in np.arange(0,len(script), 500):\n",
    "    print(script)\n",
    "    #grown_ups = grown_ups.replace('\\n',' ')\n",
    "\n",
    "def split_script(script, max_chars=500):\n",
    "    chunks = []\n",
    "    start = 0\n",
    "\n",
    "    while start < len(script):\n",
    "        # Find the nearest newline after 400 characters\n",
    "        end = start + max_chars\n",
    "        if end < len(script):\n",
    "            newline_pos = script.rfind(\"\\n\", start, end)\n",
    "            if newline_pos != -1:\n",
    "                end = newline_pos + 1  # Include the newline\n",
    "        chunks.append(script[start:end].strip().replace('\\n',' '))  # Add chunk, remove leading/trailing spaces\n",
    "        start = end  # Move to the next chunk\n",
    "\n",
    "    return chunks\n",
    "\n",
    "def emotions(script):\n",
    "  emotions = []\n",
    "  chunks = split_script(script)\n",
    "  for chunk in chunks:\n",
    "    emot = emotion(chunk)[0]['label']\n",
    "    emotions.append(emot)\n",
    "  return emotions\n",
    "\n",
    "def sentiments(script):\n",
    "  sentiments = []\n",
    "  chunks = split_script(script)\n",
    "  for chunk in chunks:\n",
    "    sentiment = sentiment_pipe(chunk)[0]['label']\n",
    "    if sentiment[-1] == '0':\n",
    "      sentiment = -1\n",
    "    elif sentiment[-1] == '1':\n",
    "      sentiment = 0\n",
    "    else: sentiment = 1\n",
    "    sentiments.append(sentiment)\n",
    "  return sentiments"
   ]
  },
  {
   "cell_type": "code",
   "execution_count": 6,
   "id": "926e175f-7bbb-4974-af56-d53dbb4c5ac6",
   "metadata": {},
   "outputs": [
    {
     "ename": "NameError",
     "evalue": "name 'emotion' is not defined",
     "output_type": "error",
     "traceback": [
      "\u001b[0;31m---------------------------------------------------------------------------\u001b[0m",
      "\u001b[0;31mNameError\u001b[0m                                 Traceback (most recent call last)",
      "Cell \u001b[0;32mIn[6], line 1\u001b[0m\n\u001b[0;32m----> 1\u001b[0m george_emotion \u001b[38;5;241m=\u001b[39m \u001b[43memotions\u001b[49m\u001b[43m(\u001b[49m\u001b[43mgeorge\u001b[49m\u001b[43m)\u001b[49m\n\u001b[1;32m      2\u001b[0m george_sentiment \u001b[38;5;241m=\u001b[39m sentiments(george)\n",
      "Cell \u001b[0;32mIn[5], line 27\u001b[0m, in \u001b[0;36memotions\u001b[0;34m(script)\u001b[0m\n\u001b[1;32m     25\u001b[0m chunks \u001b[38;5;241m=\u001b[39m split_script(script)\n\u001b[1;32m     26\u001b[0m \u001b[38;5;28;01mfor\u001b[39;00m chunk \u001b[38;5;129;01min\u001b[39;00m chunks:\n\u001b[0;32m---> 27\u001b[0m   emot \u001b[38;5;241m=\u001b[39m \u001b[43memotion\u001b[49m(chunk)[\u001b[38;5;241m0\u001b[39m][\u001b[38;5;124m'\u001b[39m\u001b[38;5;124mlabel\u001b[39m\u001b[38;5;124m'\u001b[39m]\n\u001b[1;32m     28\u001b[0m   emotions\u001b[38;5;241m.\u001b[39mappend(emot)\n\u001b[1;32m     29\u001b[0m \u001b[38;5;28;01mreturn\u001b[39;00m emotions\n",
      "\u001b[0;31mNameError\u001b[0m: name 'emotion' is not defined"
     ]
    }
   ],
   "source": [
    "george_emotion = emotions(george)\n",
    "george_sentiment = sentiments(george)"
   ]
  },
  {
   "cell_type": "code",
   "execution_count": 7,
   "id": "c1db1ccb-36b5-4331-ba7b-1a5becf61905",
   "metadata": {},
   "outputs": [
    {
     "ename": "NameError",
     "evalue": "name 'george_sentiment' is not defined",
     "output_type": "error",
     "traceback": [
      "\u001b[0;31m---------------------------------------------------------------------------\u001b[0m",
      "\u001b[0;31mNameError\u001b[0m                                 Traceback (most recent call last)",
      "Cell \u001b[0;32mIn[7], line 4\u001b[0m\n\u001b[1;32m      2\u001b[0m \u001b[38;5;28;01mimport\u001b[39;00m\u001b[38;5;250m \u001b[39m\u001b[38;5;21;01mstatistics\u001b[39;00m\n\u001b[1;32m      3\u001b[0m \u001b[38;5;66;03m#sentiment analysis\u001b[39;00m\n\u001b[0;32m----> 4\u001b[0m np\u001b[38;5;241m.\u001b[39mstd(\u001b[43mgeorge_sentiment\u001b[49m)\n\u001b[1;32m      5\u001b[0m \u001b[38;5;66;03m#rate of change\u001b[39;00m\n\u001b[1;32m      6\u001b[0m \n\u001b[1;32m      7\u001b[0m \u001b[38;5;66;03m#sentiment entropy\u001b[39;00m\n\u001b[1;32m      8\u001b[0m count_pos \u001b[38;5;241m=\u001b[39m george_sentiment\u001b[38;5;241m.\u001b[39mcount(\u001b[38;5;241m1\u001b[39m)\n",
      "\u001b[0;31mNameError\u001b[0m: name 'george_sentiment' is not defined"
     ]
    }
   ],
   "source": [
    "import numpy as np\n",
    "import statistics\n",
    "#sentiment analysis\n",
    "np.std(george_sentiment)\n",
    "#rate of change\n",
    "\n",
    "#sentiment entropy\n",
    "count_pos = george_sentiment.count(1)\n",
    "count_neg = george_sentiment.count(-1)\n",
    "count3_neut = george_sentiment.count(0)\n",
    "#print(count_pos, count_neg, count3_neut)\n",
    "prob_pos, prob_neg, prob_neut= count_pos/len(george_sentiment), count_neg/len(george_sentiment), count3_neut/len(george_sentiment)\n",
    "\n",
    "sentiment_entropy = -(prob_pos * np.log2(prob_pos) + prob_neg * np.log2(prob_neg) + prob_neut * np.log2(prob_neut))"
   ]
  },
  {
   "cell_type": "code",
   "execution_count": 8,
   "id": "95fa3eae-8bc7-48a4-a66f-9515c7f69eb3",
   "metadata": {},
   "outputs": [
    {
     "ename": "NameError",
     "evalue": "name 'george_emotion' is not defined",
     "output_type": "error",
     "traceback": [
      "\u001b[0;31m---------------------------------------------------------------------------\u001b[0m",
      "\u001b[0;31mNameError\u001b[0m                                 Traceback (most recent call last)",
      "Cell \u001b[0;32mIn[8], line 25\u001b[0m\n\u001b[1;32m     21\u001b[0m     \u001b[38;5;28;01mreturn\u001b[39;00m ranked_dict\n\u001b[1;32m     24\u001b[0m \u001b[38;5;66;03m# Get ranking dictionary\u001b[39;00m\n\u001b[0;32m---> 25\u001b[0m ranking \u001b[38;5;241m=\u001b[39m rank_by_frequency(\u001b[43mgeorge_emotion\u001b[49m)\n\u001b[1;32m     26\u001b[0m \u001b[38;5;28mprint\u001b[39m(ranking)\n",
      "\u001b[0;31mNameError\u001b[0m: name 'george_emotion' is not defined"
     ]
    }
   ],
   "source": [
    "from collections import Counter\n",
    "\n",
    "def rank_by_frequency(data):\n",
    "    # Count occurrences\n",
    "    counts = Counter(data)\n",
    "\n",
    "    # Sort values by frequency (highest first)\n",
    "    sorted_items = sorted(counts.items(), key=lambda x: x[1], reverse=True)\n",
    "\n",
    "    # Assign ranks (handling ties)\n",
    "    rank = 1\n",
    "    prev_freq = None\n",
    "    ranked_dict = {}\n",
    "\n",
    "    for i, (value, freq) in enumerate(sorted_items, start=1):\n",
    "        if freq != prev_freq:\n",
    "            rank = i  # Update rank only if frequency changes\n",
    "        ranked_dict[value] = {\"rank\": rank, \"frequency\": freq}\n",
    "        prev_freq = freq  # Keep track of previous frequency\n",
    "\n",
    "    return ranked_dict\n",
    "\n",
    "\n",
    "# Get ranking dictionary\n",
    "ranking = rank_by_frequency(george_emotion)\n",
    "print(ranking)"
   ]
  }
 ],
 "metadata": {
  "kernelspec": {
   "display_name": "Python 3 (ipykernel)",
   "language": "python",
   "name": "python3"
  },
  "language_info": {
   "codemirror_mode": {
    "name": "ipython",
    "version": 3
   },
   "file_extension": ".py",
   "mimetype": "text/x-python",
   "name": "python",
   "nbconvert_exporter": "python",
   "pygments_lexer": "ipython3",
   "version": "3.10.6"
  }
 },
 "nbformat": 4,
 "nbformat_minor": 5
}
