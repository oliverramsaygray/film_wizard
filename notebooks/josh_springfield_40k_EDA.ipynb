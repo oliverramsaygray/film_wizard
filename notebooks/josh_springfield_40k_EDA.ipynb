{
 "cells": [
  {
   "cell_type": "code",
   "execution_count": 121,
   "id": "b00b37f8-32fc-4a94-8b87-0ceca8695922",
   "metadata": {},
   "outputs": [],
   "source": [
    "import csv\n",
    "import sys\n",
    "import re\n",
    "import numpy as np"
   ]
  },
  {
   "cell_type": "code",
   "execution_count": 111,
   "id": "0576cb1c-b1a3-484f-a5f9-8bb192211fa4",
   "metadata": {},
   "outputs": [],
   "source": [
    "def extract_year(text):\n",
    "    match = re.search(r\"\\((\\d{4})\\)\",text)\n",
    "    return int(match.group(1)) if match else None"
   ]
  },
  {
   "cell_type": "markdown",
   "id": "77450e01-69e9-444e-b85c-08a73b5ebfe6",
   "metadata": {},
   "source": [
    "## CSV Module has a max width of fields. Because the script is one field it's massive."
   ]
  },
  {
   "cell_type": "code",
   "execution_count": 164,
   "id": "09ec32eb-8c9a-4632-b318-e611181924fe",
   "metadata": {},
   "outputs": [],
   "source": [
    "csv.field_size_limit(sys.maxsize);"
   ]
  },
  {
   "cell_type": "markdown",
   "id": "747b4c1a-99ca-4a1a-a788-441b0cee1e6d",
   "metadata": {},
   "source": [
    "## Getting out titles, parsing for the year and rewriting to a file."
   ]
  },
  {
   "cell_type": "code",
   "execution_count": 150,
   "id": "dc971e8b-3c5e-4c8e-803d-3b5c721dd063",
   "metadata": {},
   "outputs": [
    {
     "name": "stdout",
     "output_type": "stream",
     "text": [
      "i: 0, title: #AMFAD: All My Friends Are Dead (2024)\n",
      "i: 1000, title: A Little Help (2010)\n",
      "i: 2000, title: Alexander IRL (2017)\n",
      "i: 3000, title: Anon (2018)\n",
      "i: 4000, title: Bad News Bears, The (1976)\n",
      "i: 5000, title: Big Bear (2017)\n",
      "i: 6000, title: Bounty Hunters (2016)\n",
      "i: 7000, title: Carp-e Diem (2022)\n",
      "i: 8000, title: Client List, The (2010)\n",
      "i: 9000, title: D-War (Dragon Wars) (2007)\n",
      "i: 10000, title: Der Knochenmann (2009)\n",
      "i: 11000, title: Dreaming Hollywood (2021)\n",
      "i: 12000, title: Exeter a.k.a. Backmask (2015)\n",
      "i: 13000, title: Flying Lessons (2010)\n",
      "i: 14000, title: Ghost Light (2018)\n",
      "i: 15000, title: Hair Love (2019)\n",
      "i: 16000, title: Hitcher, The (1986)\n",
      "i: 17000, title: IB 71 (2023)\n",
      "i: 18000, title: Jackdaw (2023)\n",
      "i: 19000, title: Kesari (2019)\n",
      "i: 20000, title: Last House On The Left, The (2009)\n",
      "i: 21000, title: Lost River (2014)\n",
      "i: 22000, title: Mapla Singam (2016)\n",
      "i: 23000, title: Misseu Go (Miss Conspirator) (2012)\n",
      "i: 24000, title: My Nightmare Office Affair (2022)\n",
      "i: 25000, title: Norma Rae (1979)\n",
      "i: 26000, title: PAW Patrol: Mighty Pups (2018)\n",
      "i: 27000, title: Poisoned Love: The Stacey Castor Story (2022)\n",
      "i: 28000, title: Ransom (1996)\n",
      "i: 29000, title: Room 37: The Mysterious Death of Johnny Thunders (2019)\n",
      "i: 30000, title: Secret Life of Words, The (2005)\n",
      "i: 31000, title: Sitting in Bars with Cake (2023)\n",
      "i: 32000, title: Star (2024)\n",
      "i: 33000, title: The American Side (2016)\n",
      "i: 34000, title: The Devil's Dolls (2016)\n",
      "i: 35000, title: The Hunter's Anthology: The Demon Hunter (2024)\n",
      "i: 36000, title: Villains (2019)\n",
      "i: 37000, title: Who Killed Santa? A Murderville Murder Mystery (2022)\n",
      "i: 38000, title: Zeros and Ones (2021)\n",
      "38163\n"
     ]
    }
   ],
   "source": [
    "with open(\"../raw_data/springfield_40k_movie_scripts.csv\",\n",
    "          newline=\"\",\n",
    "          encoding='utf-8'\n",
    "         ) as csvfile:\n",
    "\n",
    "    reader = csv.DictReader(csvfile)\n",
    "\n",
    "    titles = []\n",
    "    i = 0\n",
    "    base_url = 'https://www.springfieldspringfield.co.uk'\n",
    "\n",
    "    field_names = ['Title','Year','URL']\n",
    "\n",
    "    for row in reader:\n",
    "        title = row['Title']\n",
    "        if i % 1000 == 0:\n",
    "            print(f\"i: {i}, title: {title}\")\n",
    "        year = extract_year(title)\n",
    "        link = base_url + row['URL']\n",
    "        titles.append({'Title': title,\n",
    "                       'Year': year,\n",
    "                       'URL': link\n",
    "                       })\n",
    "        i += 1\n",
    "\n",
    "print(len(titles))"
   ]
  },
  {
   "cell_type": "markdown",
   "id": "014e1ce4-6a71-4883-8e0e-ba11c44320d9",
   "metadata": {},
   "source": [
    "## Tesing by reading in those titles again"
   ]
  },
  {
   "cell_type": "code",
   "execution_count": 114,
   "id": "393c2e23-b7ab-433d-b48a-d9770b3d721a",
   "metadata": {},
   "outputs": [],
   "source": [
    "with open(\"../raw_data/springfield_40k_movie_titles.csv\",\n",
    "          mode='w',\n",
    "          newline=\"\",\n",
    "          encoding='utf-8'\n",
    "          ) as titlesfile:\n",
    "    writer = csv.DictWriter(titlesfile,fieldnames=field_names)\n",
    "    writer.writeheader()\n",
    "    writer.writerows(titles)"
   ]
  },
  {
   "cell_type": "markdown",
   "id": "394a0193-e9c3-4df5-92c0-a249efddd245",
   "metadata": {},
   "source": [
    "## Sampling randomly"
   ]
  },
  {
   "cell_type": "code",
   "execution_count": 128,
   "id": "f82c8cb8-1fb1-4f5f-a80e-05df871377c5",
   "metadata": {},
   "outputs": [
    {
     "name": "stdout",
     "output_type": "stream",
     "text": [
      "i: 0, title: Young Guns II (1990)\n",
      "i: 1000, title: Young Guns II (1990)\n",
      "i: 2000, title: Young Guns II (1990)\n",
      "i: 3000, title: Young Guns II (1990)\n",
      "i: 4000, title: Young Guns II (1990)\n",
      "i: 5000, title: Barbarosa (1982)\n",
      "i: 6000, title: Barbarosa (1982)\n",
      "i: 7000, title: Barbarosa (1982)\n",
      "i: 8000, title: Chestnut (2023)\n",
      "i: 9000, title: Contractor, The (2007)\n",
      "i: 10000, title: Contractor, The (2007)\n",
      "i: 11000, title: Contractor, The (2007)\n",
      "i: 12000, title: Contractor, The (2007)\n",
      "i: 13000, title: Contractor, The (2007)\n",
      "i: 14000, title: George Michael: Freedom Uncut (2022)\n",
      "i: 15000, title: George Michael: Freedom Uncut (2022)\n",
      "i: 16000, title: George Michael: Freedom Uncut (2022)\n",
      "i: 17000, title: George Michael: Freedom Uncut (2022)\n",
      "i: 18000, title: George Michael: Freedom Uncut (2022)\n",
      "i: 19000, title: George Michael: Freedom Uncut (2022)\n",
      "i: 20000, title: George Michael: Freedom Uncut (2022)\n",
      "i: 21000, title: George Michael: Freedom Uncut (2022)\n",
      "i: 22000, title: George Michael: Freedom Uncut (2022)\n",
      "i: 23000, title: George Michael: Freedom Uncut (2022)\n",
      "i: 24000, title: George Michael: Freedom Uncut (2022)\n",
      "i: 25000, title: George Michael: Freedom Uncut (2022)\n",
      "i: 26000, title: Out on a Limb (1992)\n",
      "i: 27000, title: Piranha (2010)\n",
      "i: 28000, title: Piranha (2010)\n",
      "i: 29000, title: Piranha (2010)\n",
      "i: 30000, title: Scoop (2006)\n",
      "i: 31000, title: Secret of the Incas (1954)\n",
      "i: 32000, title: Slumber Party Massacre II (1987)\n",
      "i: 33000, title: Slumber Party Massacre II (1987)\n",
      "i: 34000, title: Slumber Party Massacre II (1987)\n",
      "i: 35000, title: Slumber Party Massacre II (1987)\n",
      "i: 36000, title: Slumber Party Massacre II (1987)\n",
      "i: 37000, title: Slumber Party Massacre II (1987)\n",
      "i: 38000, title: Slumber Party Massacre II (1987)\n"
     ]
    }
   ],
   "source": [
    "sample_indexes = np.random.randint(low=0,high=len(titles),size=(10))\n",
    "with open(\"../raw_data/springfield_40k_movie_scripts.csv\",\n",
    "          newline=\"\",\n",
    "          encoding='utf-8'\n",
    "         ) as csvfile:\n",
    "\n",
    "    reader = csv.DictReader(csvfile)\n",
    "\n",
    "    scripts = []\n",
    "    i = 0\n",
    "\n",
    "    field_names_script = ['Title','Year','Script']\n",
    "\n",
    "    for row in reader:\n",
    "        if i % 1000 == 0:\n",
    "            print(f\"i: {i}, title: {title}\")\n",
    "        if i in sample_indexes:\n",
    "            title = row['Title']\n",
    "            year = extract_year(title)\n",
    "            script = row['Script']\n",
    "            scripts.append({'Title': title,\n",
    "                            'Year': year,\n",
    "                            'Script': script\n",
    "                            })\n",
    "        i += 1"
   ]
  },
  {
   "cell_type": "markdown",
   "id": "665d3554-9824-48a7-a170-c7d00266233b",
   "metadata": {},
   "source": [
    "## Writing random movies to file"
   ]
  },
  {
   "cell_type": "code",
   "execution_count": 130,
   "id": "4ebf8980-0754-4501-9d73-bf288a6411ac",
   "metadata": {},
   "outputs": [],
   "source": [
    "with open(\"../raw_data/springfield_10_scripts.csv\",\n",
    "          mode='w',\n",
    "          newline=\"\",\n",
    "          encoding='utf-8'\n",
    "         ) as script_samples:\n",
    "    #for row in scripts:\n",
    "    writer = csv.DictWriter(script_samples,fieldnames=field_names_script)\n",
    "    writer.writeheader()\n",
    "    writer.writerows(scripts)"
   ]
  },
  {
   "cell_type": "markdown",
   "id": "a440dd50-a6ca-4c93-9def-28d40b3bcd64",
   "metadata": {},
   "source": [
    "## Specifying some known movies to test analysis later"
   ]
  },
  {
   "cell_type": "code",
   "execution_count": 167,
   "id": "5438791b-e6b1-4ed2-9ded-c7267bd9bd62",
   "metadata": {},
   "outputs": [
    {
     "name": "stdout",
     "output_type": "stream",
     "text": [
      "i: 0, title: Silence of the Lambs, The (1991)\n",
      "i: 1000, title: Silence of the Lambs, The (1991)\n",
      "i: 2000, title: Aftersun (2022)\n",
      "i: 3000, title: Aftersun (2022)\n",
      "i: 4000, title: Aftersun (2022)\n",
      "i: 5000, title: Aftersun (2022)\n",
      "i: 6000, title: Aftersun (2022)\n",
      "i: 7000, title: Bourne Identity, The (2002)\n",
      "i: 8000, title: Bourne Identity, The (2002)\n",
      "i: 9000, title: Bourne Identity, The (2002)\n",
      "i: 10000, title: Bourne Identity, The (2002)\n",
      "i: 11000, title: Bourne Identity, The (2002)\n",
      "i: 12000, title: Bourne Identity, The (2002)\n",
      "i: 13000, title: Bourne Identity, The (2002)\n",
      "i: 14000, title: Bourne Identity, The (2002)\n",
      "i: 15000, title: Grown Ups (2010)\n",
      "i: 16000, title: Grown Ups (2010)\n",
      "i: 17000, title: Grown Ups (2010)\n",
      "i: 18000, title: Grown Ups (2010)\n",
      "i: 19000, title: Grown Ups (2010)\n",
      "i: 20000, title: Grown Ups (2010)\n",
      "i: 21000, title: Grown Ups (2010)\n",
      "i: 22000, title: Grown Ups (2010)\n",
      "i: 23000, title: Grown Ups (2010)\n",
      "i: 24000, title: Grown Ups (2010)\n",
      "i: 25000, title: Grown Ups (2010)\n",
      "i: 26000, title: Ocean's Eleven (2001)\n",
      "i: 27000, title: Ocean's Eleven (2001)\n",
      "i: 28000, title: Pulp Fiction (1994)\n",
      "i: 29000, title: Pulp Fiction (1994)\n",
      "i: 30000, title: Pulp Fiction (1994)\n",
      "i: 31000, title: Silence of the Lambs, The (1991)\n",
      "i: 32000, title: Silence of the Lambs, The (1991)\n",
      "i: 33000, title: Silence of the Lambs, The (1991)\n",
      "i: 34000, title: Silence of the Lambs, The (1991)\n",
      "i: 35000, title: Silence of the Lambs, The (1991)\n",
      "i: 36000, title: Silence of the Lambs, The (1991)\n",
      "i: 37000, title: Silence of the Lambs, The (1991)\n",
      "i: 38000, title: Silence of the Lambs, The (1991)\n"
     ]
    }
   ],
   "source": [
    "my_movie_list = [\"Silence of the Lambs, The (1991)\", \n",
    "                 \"Aftersun (2022)\", \n",
    "                 \"Ocean's Eleven (2001)\", \n",
    "                 \"Pulp Fiction (1994)\", \n",
    "                 \"Bourne Identity, The (2002)\", \n",
    "                 \"Grown Ups (2010)\"\n",
    "                ]\n",
    "my_movie_scripts = []\n",
    "\n",
    "with open(\"../raw_data/springfield_40k_movie_scripts.csv\",\n",
    "          newline=\"\",\n",
    "          encoding='utf-8'\n",
    "         ) as csvfile:\n",
    "\n",
    "    reader = csv.DictReader(csvfile)\n",
    "\n",
    "    i = 0\n",
    "\n",
    "    field_names_script = ['Title','Year','Script']\n",
    "\n",
    "    for row in reader:\n",
    "        if i % 1000 == 0:\n",
    "            print(f\"i: {i}, title: {title}\")\n",
    "        if row['Title'] in my_movie_list:\n",
    "            title = row['Title']\n",
    "            year = extract_year(title)\n",
    "            script = row['Script']\n",
    "            my_movie_scripts.append({'Title': title,\n",
    "                                    'Year': year,\n",
    "                                    'Script': script\n",
    "                                    })\n",
    "        i += 1\n",
    "\n",
    "assert len(my_movie_scripts) == len(my_movie_list)\n",
    "# matches = [[_ for _ in titles if _[\"Title\"] == my_movies] for my_movies in my_movie_list]\n",
    "# for my_movie in my_movie_list:\n",
    "#     for movie in "
   ]
  },
  {
   "cell_type": "markdown",
   "id": "0b40fbf6-f884-4303-9405-40fa7d8aa3a2",
   "metadata": {},
   "source": [
    "## Writing known movies to file"
   ]
  },
  {
   "cell_type": "code",
   "execution_count": 168,
   "id": "325a2c90-c32e-4d93-96d8-865c9a1187b0",
   "metadata": {},
   "outputs": [],
   "source": [
    "with open(\"../raw_data/springfield_my_movies_scripts.csv\",\n",
    "          mode='w',\n",
    "          newline=\"\",\n",
    "          encoding='utf-8'\n",
    "         ) as my_samples:\n",
    "    writer = csv.DictWriter(my_samples,fieldnames=field_names_script)\n",
    "    writer.writeheader()\n",
    "    writer.writerows(my_movie_scripts)"
   ]
  },
  {
   "cell_type": "markdown",
   "id": "baefec16-a424-42e1-be77-8dc8cea762a7",
   "metadata": {},
   "source": [
    "## Writing individual movies"
   ]
  },
  {
   "cell_type": "code",
   "execution_count": 177,
   "id": "1ebf9fbf-8443-4f31-b988-1ac538ad4cdd",
   "metadata": {},
   "outputs": [
    {
     "name": "stdout",
     "output_type": "stream",
     "text": [
      "bourne_identity_the_2002\n"
     ]
    }
   ],
   "source": [
    "movie_name_string = \"Bourne Identity, The (2002)\".replace(\" \", \"_\").replace(\",\", \"\").replace(\"'\",\"\").lower().replace(\"(\",\"\").replace(\")\",\"\")\n",
    "print(movie_name_string)"
   ]
  },
  {
   "cell_type": "code",
   "execution_count": 184,
   "id": "5dd62a41-eae0-4140-84fa-ddb0410064d3",
   "metadata": {},
   "outputs": [
    {
     "name": "stdout",
     "output_type": "stream",
     "text": [
      "i: 6, title: Aftersun (2022)\n",
      "i: 6, title: Bourne Identity, The (2002)\n",
      "i: 6, title: Grown Ups (2010)\n",
      "i: 6, title: Ocean's Eleven (2001)\n",
      "i: 6, title: Pulp Fiction (1994)\n",
      "i: 6, title: Silence of the Lambs, The (1991)\n"
     ]
    }
   ],
   "source": [
    "my_movie_list = [\"Silence of the Lambs, The (1991)\", \n",
    "                 \"Aftersun (2022)\", \n",
    "                 \"Ocean's Eleven (2001)\", \n",
    "                 \"Pulp Fiction (1994)\", \n",
    "                 \"Bourne Identity, The (2002)\", \n",
    "                 \"Grown Ups (2010)\"\n",
    "                ]\n",
    "\n",
    "with open(\"../raw_data/springfield_my_movies_scripts.csv\",newline=\"\",encoding='utf-8') as csvfile:\n",
    "    reader = csv.DictReader(csvfile)\n",
    "    field_names_script = ['Title','Year','Script']\n",
    "    for row in reader:\n",
    "        title = row['Title']\n",
    "        print(f\"i: {i}, title: {title}\")\n",
    "        year = extract_year(title)\n",
    "        script = row['Script']\n",
    "        specific_movie_script = [{'Title': title,'Year': year,'Script': script}]\n",
    "        \n",
    "        movie_name_clean = title.replace(\" \", \"_\").replace(\",\", \"\").replace(\"'\",\"\").lower().replace(\"(\",\"\").replace(\")\",\"\").replace(\".\",\"\")\n",
    "        file_name = f'../raw_data/springfield_script_{movie_name_clean}.csv'\n",
    "        with open(file_name,mode='w',newline=\"\",encoding='utf-8') as specific_movie_file:\n",
    "            writer = csv.DictWriter(specific_movie_file,fieldnames=field_names_script)\n",
    "            writer.writeheader()\n",
    "            writer.writerows(specific_movie_script)"
   ]
  }
 ],
 "metadata": {
  "kernelspec": {
   "display_name": "Python 3 (ipykernel)",
   "language": "python",
   "name": "python3"
  },
  "language_info": {
   "codemirror_mode": {
    "name": "ipython",
    "version": 3
   },
   "file_extension": ".py",
   "mimetype": "text/x-python",
   "name": "python",
   "nbconvert_exporter": "python",
   "pygments_lexer": "ipython3",
   "version": "3.10.6"
  }
 },
 "nbformat": 4,
 "nbformat_minor": 5
}
